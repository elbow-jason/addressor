{
 "cells": [
  {
   "cell_type": "code",
   "execution_count": 1,
   "metadata": {
    "collapsed": false,
    "deletable": true,
    "editable": true
   },
   "outputs": [
    {
     "ename": "ImportError",
     "evalue": "cannot import name 'generate_pipe'",
     "output_type": "error",
     "traceback": [
      "\u001b[0;31m---------------------------------------------------------------------------\u001b[0m",
      "\u001b[0;31mImportError\u001b[0m                               Traceback (most recent call last)",
      "\u001b[0;32m<ipython-input-1-0c938f29c4a2>\u001b[0m in \u001b[0;36m<module>\u001b[0;34m()\u001b[0m\n\u001b[0;32m----> 1\u001b[0;31m \u001b[0;32mfrom\u001b[0m \u001b[0mpiper\u001b[0m \u001b[0;32mimport\u001b[0m \u001b[0;34m(\u001b[0m\u001b[0mgenerate_pipe\u001b[0m\u001b[0;34m,\u001b[0m \u001b[0mpredict\u001b[0m\u001b[0;34m)\u001b[0m\u001b[0;34m\u001b[0m\u001b[0m\n\u001b[0m\u001b[1;32m      2\u001b[0m \u001b[0;32mimport\u001b[0m \u001b[0mpiper\u001b[0m\u001b[0;34m\u001b[0m\u001b[0m\n\u001b[1;32m      3\u001b[0m \u001b[0mpipe\u001b[0m \u001b[0;34m=\u001b[0m \u001b[0mpiper\u001b[0m\u001b[0;34m.\u001b[0m\u001b[0mgenerate_pipe\u001b[0m\u001b[0;34m(\u001b[0m\u001b[0;34m)\u001b[0m\u001b[0;34m\u001b[0m\u001b[0m\n\u001b[1;32m      4\u001b[0m stuff = [\n\u001b[1;32m      5\u001b[0m     \u001b[0;34m\"123 Maple Street San Francisco, California 85555\"\u001b[0m\u001b[0;34m,\u001b[0m\u001b[0;34m\u001b[0m\u001b[0m\n",
      "\u001b[0;31mImportError\u001b[0m: cannot import name 'generate_pipe'"
     ]
    }
   ],
   "source": [
    "from piper import (generate_pipe, predict)\n",
    "import piper\n",
    "pipe = piper.generate_pipe()\n",
    "stuff = [\n",
    "    \"123 Maple Street San Francisco, California 85555\",\n",
    "    \"Mary Check it out\",\n",
    "    \"1000 dollar bills for 10 people\",\n",
    "    \"First Name Ryan, Last Name BirkishBurstBleck\",\n",
    "    \"17333 N Scottsdale Rd. Scottsdale, AZ 85053\",\n",
    "    \"FIZZ BUZZ THE OUTTA THE WORK\",\n",
    "    \"!23112123123123132\",\n",
    "    \"'asjdfkhasdf9asdfasd|||||||\",\n",
    "    \"123 Maple Rd.\",\n",
    "    \"12 Buckle Your Shoe, 34 Lock the door, 56 pick up sticks\"\n",
    "]\n",
    "\n",
    "predicted = predict(pipe, stuff)"
   ]
  },
  {
   "cell_type": "code",
   "execution_count": 2,
   "metadata": {
    "collapsed": false,
    "deletable": true,
    "editable": true
   },
   "outputs": [],
   "source": [
    "items = {val: pred for (pred, val) in zip(predicted, stuff)}"
   ]
  },
  {
   "cell_type": "code",
   "execution_count": 3,
   "metadata": {
    "collapsed": false,
    "deletable": true,
    "editable": true
   },
   "outputs": [
    {
     "data": {
      "text/plain": [
       "{'!23112123123123132': 'nothing',\n",
       " \"'asjdfkhasdf9asdfasd|||||||\": 'nothing',\n",
       " '1000 dollar bills for 10 people': 'nothing',\n",
       " '12 Buckle Your Shoe, 34 Lock the door, 56 pick up sticks': 'nothing',\n",
       " '123 Maple Rd.': 'address',\n",
       " '123 Maple Street San Francisco, California 85555': 'address',\n",
       " '17333 N Scottsdale Rd. Scottsdale, AZ 85053': 'address',\n",
       " 'FIZZ BUZZ THE OUTTA THE WORK': 'nothing',\n",
       " 'First Name Ryan, Last Name BirkishBurstBleck': 'nothing',\n",
       " 'Mary Check it out': 'nothing'}"
      ]
     },
     "execution_count": 3,
     "metadata": {},
     "output_type": "execute_result"
    }
   ],
   "source": [
    "items"
   ]
  },
  {
   "cell_type": "code",
   "execution_count": 4,
   "metadata": {
    "collapsed": false,
    "deletable": true,
    "editable": true
   },
   "outputs": [],
   "source": [
    "doc_string = \"\"\"\n",
    "Unofficial 20Document\n",
    "Recording Requested by: 14 First American Title Insurance Company H02\n",
    "When recorded mail to: Jack L. O'Brien 14737 West Pecos Lane Sun City West, AZ 85375 WARRANTY DEED\n",
    "File No. 500-5830336 (CB)\n",
    "For the consideration of TEN AND NO/ 100 DOLLARS, and other valuable considerations, I or we,\n",
    "Peggy A. Young-Noble, as Trustee of the Peggy A. Young Trust dated September 24, 1990, the GRANTOR does hereby convey to\n",
    "Jack L. O'Brien, an unmarried man, the GRANTEE the following described real property situate in Maricopa County, Arizona:\n",
    "LOT 13, OF SUN CITY WEST UNIT 55A, ACCORDING TO THE PLAT OF RECORD IN THE OFFICE OF THE COUNTY RECORDER OF MARICOPA COUNTY, ARIZONA, RECORDED IN BOOK 384 OF MAPS, PAGE 22.\n",
    "Pursuant to ARS 33-404, Beneficiaries names and addresses under said trust(s) are disclosed in Beneficiary Disclosure attached hereto.\n",
    "Subject To: Existing taxes, assessments, covenants, conditions, restrictions, rights of way, easements and all other matters of record.\n",
    "And the GRANTOR does warrant the title against all persons whomsoever, subject to the matters set forth above.\n",
    "\"\"\""
   ]
  },
  {
   "cell_type": "code",
   "execution_count": 5,
   "metadata": {
    "collapsed": false,
    "deletable": true,
    "editable": true
   },
   "outputs": [],
   "source": [
    "doc_lines = doc_string.split(\"\\n\")"
   ]
  },
  {
   "cell_type": "code",
   "execution_count": 6,
   "metadata": {
    "collapsed": false,
    "deletable": true,
    "editable": true
   },
   "outputs": [
    {
     "name": "stdout",
     "output_type": "stream",
     "text": [
      "strict_addresses [\"When recorded mail to: Jack L. O'Brien 14737 West Pecos Lane Sun City West, AZ 85375 WARRANTY DEED\"]\n",
      "maybe_addresses []\n",
      "person_names []\n"
     ]
    }
   ],
   "source": [
    "def predict_dict(pipe, lines):\n",
    "    predicted = predict(pipe, lines)\n",
    "    return {val: pred for (pred, val) in zip(predicted, lines)}\n",
    "\n",
    "def keep_only(predictions, wanted_label):\n",
    "    return [key for (key, label) in predictions.items() if label == wanted_label]\n",
    "\n",
    "predicted = predict_dict(pipe, doc_lines)\n",
    "strict_addresses = keep_only(predicted, \"address\")\n",
    "maybe_addresses = keep_only(predicted, \"maybe_address\")\n",
    "person_names = keep_only(predicted, \"person_name\")\n",
    "\n",
    "print(\"strict_addresses\", strict_addresses)\n",
    "print(\"maybe_addresses\", maybe_addresses)\n",
    "print(\"person_names\", person_names)"
   ]
  },
  {
   "cell_type": "code",
   "execution_count": 7,
   "metadata": {
    "collapsed": false,
    "deletable": true,
    "editable": true
   },
   "outputs": [],
   "source": [
    "person_name_pipe = piper.person_name_pipe()"
   ]
  },
  {
   "cell_type": "code",
   "execution_count": 8,
   "metadata": {
    "collapsed": true,
    "deletable": true,
    "editable": true
   },
   "outputs": [],
   "source": [
    "person_predicted = predict_dict(person_name_pipe, doc_lines)"
   ]
  },
  {
   "cell_type": "code",
   "execution_count": null,
   "metadata": {
    "collapsed": false,
    "deletable": true,
    "editable": true
   },
   "outputs": [],
   "source": []
  },
  {
   "cell_type": "code",
   "execution_count": null,
   "metadata": {
    "collapsed": true,
    "deletable": true,
    "editable": true
   },
   "outputs": [],
   "source": []
  },
  {
   "cell_type": "code",
   "execution_count": null,
   "metadata": {
    "collapsed": true,
    "deletable": true,
    "editable": true
   },
   "outputs": [],
   "source": []
  },
  {
   "cell_type": "code",
   "execution_count": null,
   "metadata": {
    "collapsed": true,
    "deletable": true,
    "editable": true
   },
   "outputs": [],
   "source": []
  }
 ],
 "metadata": {
  "kernelspec": {
   "display_name": "Python 3",
   "language": "python",
   "name": "python3"
  },
  "language_info": {
   "codemirror_mode": {
    "name": "ipython",
    "version": 3
   },
   "file_extension": ".py",
   "mimetype": "text/x-python",
   "name": "python",
   "nbconvert_exporter": "python",
   "pygments_lexer": "ipython3",
   "version": "3.5.2"
  }
 },
 "nbformat": 4,
 "nbformat_minor": 2
}
