{
 "cells": [
  {
   "cell_type": "code",
   "execution_count": 1,
   "metadata": {
    "collapsed": false,
    "deletable": true,
    "editable": true
   },
   "outputs": [],
   "source": [
    "from piper import (person_name, predictor, strict_address, maybe_address)\n",
    "\n",
    "from faker import Faker\n",
    "producer = Faker()\n",
    "import editdistance"
   ]
  },
  {
   "cell_type": "code",
   "execution_count": 2,
   "metadata": {
    "collapsed": false,
    "deletable": true,
    "editable": true
   },
   "outputs": [
    {
     "data": {
      "text/plain": [
       "30000"
      ]
     },
     "execution_count": 2,
     "metadata": {},
     "output_type": "execute_result"
    }
   ],
   "source": [
    "len(person_name.person_names)"
   ]
  },
  {
   "cell_type": "code",
   "execution_count": 3,
   "metadata": {
    "collapsed": false,
    "deletable": true,
    "editable": true
   },
   "outputs": [],
   "source": [
    "distance = editdistance.eval(\"Jason\", \"Mansion\")"
   ]
  },
  {
   "cell_type": "code",
   "execution_count": 4,
   "metadata": {
    "collapsed": false,
    "deletable": true,
    "editable": true
   },
   "outputs": [],
   "source": [
    "one = \"Jason Louis Goldberger\"\n",
    "two = \"Mansion Louise Goldenbach\"\n",
    "tre = \"Louis Goldberger\"\n",
    "\n",
    "def similarity(a, b):\n",
    "    len_a = len(a)\n",
    "    len_b = len(b)\n",
    "    distance = editdistance.eval(a, b)\n",
    "    difference = distance / ((len_a + len_b) / 2)\n",
    "    return 1 - difference"
   ]
  },
  {
   "cell_type": "code",
   "execution_count": 5,
   "metadata": {
    "collapsed": false,
    "deletable": true,
    "editable": true
   },
   "outputs": [
    {
     "data": {
      "text/plain": [
       "0.574468085106383"
      ]
     },
     "execution_count": 5,
     "metadata": {},
     "output_type": "execute_result"
    }
   ],
   "source": [
    "similarity(one, two)"
   ]
  },
  {
   "cell_type": "code",
   "execution_count": 6,
   "metadata": {
    "collapsed": false,
    "deletable": true,
    "editable": true
   },
   "outputs": [
    {
     "name": "stdout",
     "output_type": "stream",
     "text": [
      "0.6842105263157895\n"
     ]
    }
   ],
   "source": [
    "print(similarity(one, tre))"
   ]
  },
  {
   "cell_type": "code",
   "execution_count": 7,
   "metadata": {
    "collapsed": false,
    "deletable": true,
    "editable": true
   },
   "outputs": [
    {
     "name": "stdout",
     "output_type": "stream",
     "text": [
      "0.6842105263157895\n"
     ]
    }
   ],
   "source": [
    "print(similarity(tre, one))"
   ]
  },
  {
   "cell_type": "code",
   "execution_count": 10,
   "metadata": {
    "collapsed": false,
    "deletable": true,
    "editable": true
   },
   "outputs": [],
   "source": [
    "person_pipe = person_name.get_pipe()\n",
    "strict_address_pipe = strict_address.get_pipe()\n",
    "maybe_address_pipe = maybe_address.get_pipe()"
   ]
  },
  {
   "cell_type": "code",
   "execution_count": 11,
   "metadata": {
    "collapsed": true,
    "deletable": true,
    "editable": true
   },
   "outputs": [],
   "source": [
    "stuff = [\n",
    "    \"123 Maple Street San Francisco, California 85555\",\n",
    "    \"Mary Check it out\",\n",
    "    \"1000 dollar bills for 10 people\",\n",
    "    \"First Name Ryan, Last Name BirkishBurstBleck\",\n",
    "    \"17333 N Scottsdale Rd. Scottsdale, AZ 85053\",\n",
    "    \"FIZZ BUZZ THE OUTTA THE WORK\",\n",
    "    \"!23112123123123132\",\n",
    "    \"'asjdfkhasdf9asdfasd|||||||\",\n",
    "    \"123 Maple Rd.\",\n",
    "    \"12 Buckle Your Shoe, 34 Lock the door, 56 pick up sticks\"\n",
    "]\n"
   ]
  },
  {
   "cell_type": "code",
   "execution_count": 12,
   "metadata": {
    "collapsed": false,
    "deletable": true,
    "editable": true
   },
   "outputs": [
    {
     "data": {
      "text/plain": [
       "['person_name',\n",
       " 'person_name',\n",
       " 'person_name',\n",
       " 'person_name',\n",
       " 'person_name',\n",
       " 'nothing',\n",
       " 'person_name',\n",
       " 'person_name',\n",
       " 'person_name',\n",
       " 'nothing']"
      ]
     },
     "execution_count": 12,
     "metadata": {},
     "output_type": "execute_result"
    }
   ],
   "source": [
    "predictor.predict(person_pipe, stuff)"
   ]
  },
  {
   "cell_type": "code",
   "execution_count": 11,
   "metadata": {
    "collapsed": false,
    "deletable": true,
    "editable": true
   },
   "outputs": [
    {
     "data": {
      "text/plain": [
       "['strict_address',\n",
       " 'nothing',\n",
       " 'nothing',\n",
       " 'nothing',\n",
       " 'strict_address',\n",
       " 'nothing',\n",
       " 'nothing',\n",
       " 'nothing',\n",
       " 'strict_address',\n",
       " 'nothing']"
      ]
     },
     "execution_count": 11,
     "metadata": {},
     "output_type": "execute_result"
    }
   ],
   "source": [
    "predictor.predict(strict_address_pipe, stuff)"
   ]
  },
  {
   "cell_type": "code",
   "execution_count": 12,
   "metadata": {
    "collapsed": false,
    "deletable": true,
    "editable": true
   },
   "outputs": [
    {
     "data": {
      "text/plain": [
       "['maybe_address',\n",
       " 'maybe_address',\n",
       " 'maybe_address',\n",
       " 'maybe_address',\n",
       " 'maybe_address',\n",
       " 'nothing',\n",
       " 'maybe_address',\n",
       " 'maybe_address',\n",
       " 'maybe_address',\n",
       " 'nothing']"
      ]
     },
     "execution_count": 12,
     "metadata": {},
     "output_type": "execute_result"
    }
   ],
   "source": [
    "predictor.predict(maybe_address_pipe, stuff)"
   ]
  },
  {
   "cell_type": "code",
   "execution_count": 13,
   "metadata": {
    "collapsed": false,
    "deletable": true,
    "editable": true
   },
   "outputs": [
    {
     "name": "stdout",
     "output_type": "stream",
     "text": [
      "['Lisa I. Taylor', 'Ronald T. Mosley', 'Natasha W. Swanson', 'Dennis Y. Adams', 'Luis P. Vasquez', 'Benjamin M. Davis', 'Joshua F. Combs', 'Anita Z. Jones', 'Kathryn U. Warren', 'Kathleen C. Barber', 'Peggy M. Wolfe', 'George M. Clark', 'Kelli C. Weaver', 'Philip X. Williams', 'Jack V. Silva', 'Kyle M. Morales', 'Mark U. Holmes', 'Terry P. Wagner', 'Carrie C. Cunningham', 'James P. Anderson']\n",
      "['723 East Summerhouse St. Trumbull, CT 06611', '554 Birch Hill Dr. Kokomo, IN 46901', '7431 Rosewood Road Lutherville Timonium, MD 21093', '9524 Lancaster Road Spartanburg, SC 29301', '344 Jackson Street San Jose, CA 95127', '6 Vernon Lane Perth Amboy, NJ 08861', '7297 Water Street Londonderry, NH 03053', '411 Edgewater Court Riverview, FL 33569', '9285 Franklin Ave. Ridgewood, NJ 07450', '297 Fawn Street Battle Creek, MI 49015', '289 S. Wagon Ave. Roanoke Rapids, NC 27870', '641 Harvey Dr. Waxhaw, NC 28173', '92 Gonzales Dr. Ladson, SC 29456', '642 Hartford Rd. Aiken, SC 29803', '380 Lakeshore Avenue Akron, OH 44312', '751 Glenwood Rd. Hummelstown, PA 17036', '815 W. Jones St. Natick, MA 01760', '9881 Old Mill Drive Lemont, IL 60439', '686 Warren Dr. Annandale, VA 22003', '7919 Fairground St. Westbury, NY 11590']\n",
      "['0997 Brooks Mountains Suite 511 Port William, MH 36480', '37904 Michael Falls Suite 803 Phillipville, ID 79574', 'Unit 6499 Box 2113 DPO AE 49686-7074', '312 Nathan Roads West Gary, MH 53773', '276 Michael Drive Apt. 589 New Anthony, WV 25530', '59137 Daniels Shore Apt. 490 Weissfurt, AS 93315', '42541 Briggs Freeway Apt. 189 Lake Jessica, PA 44000-4117', '11329 Hardin Lane Apt. 149 Harveystad, GU 58336-0261', '89910 Benjamin Island Huffmanborough, VI 80979-7993', '6614 Walker Court Christopherfurt, VT 71882', '03869 Amanda Lane Suite 698 Port Danielshire, AS 81588-5789', '198 Gail Centers Suite 049 Lake Amandaside, NC 51755-9929', '412 Martin Pines Apt. 654 West Meganberg, TN 61247', '25109 Pamela Cliff West Brad, MP 33225-7073', '0168 Conley Spurs Apt. 917 Martinezfurt, NV 62742-6329', '9014 Ellis Landing Apt. 663 South Markshire, WY 16561', '18669 Richards Dam Suite 590 Stoutfort, TX 40563', '9267 Megan Garden New Kyle, AS 61437-9583', 'USS Knapp FPO AP 70551', '288 Weber Crescent Apt. 783 Loritown, RI 39102']\n"
     ]
    }
   ],
   "source": [
    "print(person_name.get_list(20))\n",
    "\n",
    "print(strict_address.get_list(20))\n",
    "\n",
    "print(maybe_address.get_list(20))"
   ]
  },
  {
   "cell_type": "code",
   "execution_count": 14,
   "metadata": {
    "collapsed": true,
    "deletable": true,
    "editable": true
   },
   "outputs": [],
   "source": [
    "from random import sample"
   ]
  },
  {
   "cell_type": "code",
   "execution_count": 15,
   "metadata": {
    "collapsed": false,
    "deletable": true,
    "editable": true
   },
   "outputs": [
    {
     "name": "stdout",
     "output_type": "stream",
     "text": [
      "Help on method sample in module random:\n",
      "\n",
      "sample(population, k) method of random.Random instance\n",
      "    Chooses k unique random elements from a population sequence or set.\n",
      "    \n",
      "    Returns a new list containing elements from the population while\n",
      "    leaving the original population unchanged.  The resulting list is\n",
      "    in selection order so that all sub-slices will also be valid random\n",
      "    samples.  This allows raffle winners (the sample) to be partitioned\n",
      "    into grand prize and second place winners (the subslices).\n",
      "    \n",
      "    Members of the population need not be hashable or unique.  If the\n",
      "    population contains repeats, then each occurrence is a possible\n",
      "    selection in the sample.\n",
      "    \n",
      "    To choose a sample in a range of integers, use range as an argument.\n",
      "    This is especially fast and space efficient for sampling from a\n",
      "    large population:   sample(range(10000000), 60)\n",
      "\n"
     ]
    }
   ],
   "source": [
    "help(sample)"
   ]
  },
  {
   "cell_type": "code",
   "execution_count": 14,
   "metadata": {
    "collapsed": false,
    "deletable": true,
    "editable": true
   },
   "outputs": [
    {
     "data": {
      "text/plain": [
       "array([1, 0])"
      ]
     },
     "execution_count": 14,
     "metadata": {},
     "output_type": "execute_result"
    }
   ],
   "source": [
    "strict_address_pipe.predict([\"Jason live as 17212 N Scottdale Rd. APT 2352 Scottsdale, AZ 85255 and he like it.\", \"blep\"])"
   ]
  },
  {
   "cell_type": "code",
   "execution_count": 15,
   "metadata": {
    "collapsed": false,
    "deletable": true,
    "editable": true
   },
   "outputs": [
    {
     "data": {
      "text/plain": [
       "'Jason live as 17212 N Scottdale Rd. APT 2352 Scottsdale, AZ 85255 and he like it.'"
      ]
     },
     "execution_count": 15,
     "metadata": {},
     "output_type": "execute_result"
    }
   ],
   "source": [
    "\"Jason live as 17212 N Scottdale Rd. APT 2352 Scottsdale, AZ 85255 and he like it.\""
   ]
  },
  {
   "cell_type": "code",
   "execution_count": null,
   "metadata": {
    "collapsed": true
   },
   "outputs": [],
   "source": []
  }
 ],
 "metadata": {
  "kernelspec": {
   "display_name": "Python 3",
   "language": "python",
   "name": "python3"
  },
  "language_info": {
   "codemirror_mode": {
    "name": "ipython",
    "version": 3
   },
   "file_extension": ".py",
   "mimetype": "text/x-python",
   "name": "python",
   "nbconvert_exporter": "python",
   "pygments_lexer": "ipython3",
   "version": "3.5.2"
  }
 },
 "nbformat": 4,
 "nbformat_minor": 2
}
