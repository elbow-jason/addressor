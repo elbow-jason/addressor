{
 "cells": [
  {
   "cell_type": "code",
   "execution_count": 1,
   "metadata": {
    "collapsed": true,
    "deletable": true,
    "editable": true
   },
   "outputs": [],
   "source": [
    "with open(\"./data/ocr_data.json\") as f:\n",
    "    raw_json = f.read()"
   ]
  },
  {
   "cell_type": "code",
   "execution_count": 2,
   "metadata": {
    "collapsed": false,
    "deletable": true,
    "editable": true
   },
   "outputs": [],
   "source": [
    "import json\n",
    "import re\n",
    "\n",
    "import autocorrect\n",
    "from piper import preprocessing\n",
    "from piper import predictor"
   ]
  },
  {
   "cell_type": "code",
   "execution_count": 3,
   "metadata": {
    "collapsed": false,
    "deletable": true,
    "editable": true
   },
   "outputs": [],
   "source": [
    "data = json.loads(raw_json)\n",
    "# print(data[0])\n",
    "texts = [x.get(\"result\") for x in data if x.get(\"result\")]\n",
    "# print(texts[0])"
   ]
  },
  {
   "cell_type": "code",
   "execution_count": 4,
   "metadata": {
    "collapsed": false,
    "deletable": true,
    "editable": true
   },
   "outputs": [],
   "source": [
    "from piper import strings"
   ]
  },
  {
   "cell_type": "code",
   "execution_count": 5,
   "metadata": {
    "collapsed": false,
    "deletable": true,
    "editable": true
   },
   "outputs": [
    {
     "data": {
      "text/plain": [
       "0.9047619047619048"
      ]
     },
     "execution_count": 5,
     "metadata": {},
     "output_type": "execute_result"
    }
   ],
   "source": [
    "strings.similarity(\"WHEV RECORDED MA L TO\", \"WHEN RECORDED MAIL TO\")"
   ]
  },
  {
   "cell_type": "code",
   "execution_count": 6,
   "metadata": {
    "collapsed": false,
    "deletable": true,
    "editable": true
   },
   "outputs": [
    {
     "data": {
      "text/plain": [
       "'WHEN'"
      ]
     },
     "execution_count": 6,
     "metadata": {},
     "output_type": "execute_result"
    }
   ],
   "source": [
    "autocorrect.spell(\"WHEV\")"
   ]
  },
  {
   "cell_type": "code",
   "execution_count": 7,
   "metadata": {
    "collapsed": false,
    "deletable": true,
    "editable": true
   },
   "outputs": [
    {
     "name": "stdout",
     "output_type": "stream",
     "text": [
      "parcels\n",
      " []\n",
      "mail_to\n",
      " [{'name': ['James McI-Ienry'], 'address': ['21427 W Monte Vista Rd', 'Buckeye AZ 85396']}]\n",
      "strict_address\n",
      " ['21427 W Monte Vista Rd Buckeye AZ 85396']\n",
      "escrow_number\n",
      " ['AZ5490']\n",
      "text\n",
      " U n official\n",
      "Recording Requested By 20 D 0 CU m e nt\n",
      "\n",
      "NEW LAND TITLE AGENCY LLC\n",
      "\n",
      "AZ\n",
      "\n",
      "WHEN RECORDED MAIL TO he\n",
      "\n",
      "      \n",
      "\n",
      "James McI-Ienry\n",
      "\n",
      "21427 W Monte Vista Rd\n",
      "Buckeye AZ 85396\n",
      "\n",
      " \n",
      "\n",
      "Escrow No AZ5490 SPACE ABOVE THIS LINE FOR RECORDERS USE\n",
      "\n",
      "SPECIAL WARRANTY DEED\n",
      "\n",
      "For the consideration of TEN AND NOl 00 DOLLARS and other valuable considerations I or we\n",
      "K Hovnanian at Sienna Hills LLC an Arizona limited liability company\n",
      "\n",
      "the GRANTOR dodoes hereby convey to\n",
      "\n",
      "James McHenry Unmarried Man\n",
      "\n",
      "the GRANTEES\n",
      "the following described real property situate in Maricopa County Arizona\n",
      "\n",
      "LOT 28 SIENNA HILLS - PARCEL 1 NORTH ACCORDING TO THE FINAL PLAT\n",
      "RECORDED IN BOOK 1276 OF MAPS PAGE 19 RECORDS OF MARICOPA\n",
      "COUNTY ARIZONA\n",
      "\n",
      "EXCEPT FROM LOTS 1 THROUGH 5 INCLUSIVE AND 27 ALL MINERAL\n",
      "DEPOSITS AND RIGHTS AS RESERVED BY THE STATE OF ARIZONA IN DEED\n",
      "RECORDED IN DOCKET 427 PAGE 469\n",
      "\n",
      "SUBJECT TO Current taxes and other assessments reservations in patents and all easements rights of\n",
      "way encumbrances liens covenants conditions restrictions easements and liabilities as may appear of\n",
      "record\n",
      "\n",
      "AND the Grantor here by binds itself and its successors to warrant and defend the title against all acts of\n",
      "the Grantor herein and no other subject to the matters set forth\n",
      "\n",
      "DATED SEPTEMBER 15 2017\n",
      "\n",
      "REMAINDER OF PAGE LEFT INTENTIONALLY BLANK\n"
     ]
    }
   ],
   "source": [
    "import piper\n",
    "txt = texts[3]\n",
    "result = piper.run_text(txt)\n",
    "print(\"parcels\\n\", result[\"parcels\"])\n",
    "print(\"mail_to\\n\", result[\"mail_to\"])\n",
    "print(\"strict_address\\n\", result[\"strict_address\"])\n",
    "print(\"escrow_number\\n\", result[\"escrow_number\"])\n",
    "print(\"text\\n\", result[\"text\"])\n",
    "\n"
   ]
  },
  {
   "cell_type": "code",
   "execution_count": 8,
   "metadata": {
    "collapsed": false,
    "deletable": true,
    "editable": true
   },
   "outputs": [],
   "source": [
    "from piper import mail_to"
   ]
  },
  {
   "cell_type": "code",
   "execution_count": 9,
   "metadata": {
    "collapsed": false,
    "deletable": true,
    "editable": true
   },
   "outputs": [
    {
     "data": {
      "text/plain": [
       "['SPECIAL WARRANTY DEED',\n",
       " 'WARRANTY DEED',\n",
       " 'Escrow Number:',\n",
       " 'Escrow No.',\n",
       " 'RE Escrow No']"
      ]
     },
     "execution_count": 9,
     "metadata": {},
     "output_type": "execute_result"
    }
   ],
   "source": [
    "mail_to.SUFFIXES"
   ]
  },
  {
   "cell_type": "code",
   "execution_count": 10,
   "metadata": {
    "collapsed": true,
    "deletable": true,
    "editable": true
   },
   "outputs": [],
   "source": [
    "import usaddress"
   ]
  },
  {
   "cell_type": "code",
   "execution_count": 11,
   "metadata": {
    "collapsed": false,
    "deletable": true,
    "editable": true
   },
   "outputs": [
    {
     "data": {
      "text/plain": [
       "[('21427', 'AddressNumber'),\n",
       " ('W', 'StreetNamePreDirectional'),\n",
       " ('Monte', 'StreetName'),\n",
       " ('Vista', 'StreetName'),\n",
       " ('Rd', 'StreetNamePostType')]"
      ]
     },
     "execution_count": 11,
     "metadata": {},
     "output_type": "execute_result"
    }
   ],
   "source": [
    "usaddress.parse('21427 W Monte Vista Rd')"
   ]
  },
  {
   "cell_type": "code",
   "execution_count": 12,
   "metadata": {
    "collapsed": false,
    "deletable": true,
    "editable": true
   },
   "outputs": [],
   "source": [
    "from piper import organization"
   ]
  },
  {
   "cell_type": "code",
   "execution_count": 13,
   "metadata": {
    "collapsed": false,
    "deletable": true,
    "editable": true
   },
   "outputs": [
    {
     "data": {
      "text/plain": [
       "['Martinez Group Insurance',\n",
       " 'Romero-Williams Insurance',\n",
       " 'Mcdonald, Rowe and Andrews an Arizona limited liability company',\n",
       " 'Woods, Escobar and Green L.L.C.',\n",
       " 'Williams-Collier , LLC',\n",
       " 'Meyer Ltd , LLC',\n",
       " 'Hobbs Ltd AGENCY',\n",
       " 'Smith Group INC.',\n",
       " 'Bennett PLC Investment',\n",
       " 'Olson, Johnson and Cummings AGENCY',\n",
       " 'Barber-Williams LLC',\n",
       " 'Logan and Sons AGENCY',\n",
       " 'Perez, Higgins and Black AGENCY',\n",
       " 'Taylor-Williams INC',\n",
       " 'Jackson Ltd Company',\n",
       " 'Oneill, Tran and Garcia Company',\n",
       " 'Conley-Haley Title Insurance CompanyTitle',\n",
       " 'Burton, Matthews and Walker Company',\n",
       " 'Shepard and Sons L.L.C.',\n",
       " 'Dawson Group INC.']"
      ]
     },
     "execution_count": 13,
     "metadata": {},
     "output_type": "execute_result"
    }
   ],
   "source": [
    "organization.get_list(limit=20)"
   ]
  },
  {
   "cell_type": "code",
   "execution_count": 14,
   "metadata": {
    "collapsed": true,
    "deletable": true,
    "editable": true
   },
   "outputs": [],
   "source": [
    "org_pipe = organization.get_pipe()"
   ]
  },
  {
   "cell_type": "code",
   "execution_count": 15,
   "metadata": {
    "collapsed": false,
    "deletable": true,
    "editable": true
   },
   "outputs": [],
   "source": [
    "x = predictor.predict(org_pipe, [\"K Hovnanian at Sienna Hills LLC an Arizona limited liability company\"])"
   ]
  },
  {
   "cell_type": "code",
   "execution_count": 16,
   "metadata": {
    "collapsed": false,
    "deletable": true,
    "editable": true
   },
   "outputs": [
    {
     "data": {
      "text/plain": [
       "['organization']"
      ]
     },
     "execution_count": 16,
     "metadata": {},
     "output_type": "execute_result"
    }
   ],
   "source": [
    "x"
   ]
  },
  {
   "cell_type": "code",
   "execution_count": 17,
   "metadata": {
    "collapsed": false
   },
   "outputs": [
    {
     "data": {
      "text/plain": [
       "False"
      ]
     },
     "execution_count": 17,
     "metadata": {},
     "output_type": "execute_result"
    }
   ],
   "source": [
    "x is None"
   ]
  },
  {
   "cell_type": "code",
   "execution_count": null,
   "metadata": {
    "collapsed": true
   },
   "outputs": [],
   "source": []
  },
  {
   "cell_type": "code",
   "execution_count": null,
   "metadata": {
    "collapsed": true
   },
   "outputs": [],
   "source": []
  },
  {
   "cell_type": "code",
   "execution_count": 18,
   "metadata": {
    "collapsed": false,
    "deletable": true,
    "editable": true
   },
   "outputs": [
    {
     "ename": "NameError",
     "evalue": "name 'y' is not defined",
     "output_type": "error",
     "traceback": [
      "\u001b[0;31m---------------------------------------------------------------------------\u001b[0m",
      "\u001b[0;31mNameError\u001b[0m                                 Traceback (most recent call last)",
      "\u001b[0;32m<ipython-input-18-e82006203f92>\u001b[0m in \u001b[0;36m<module>\u001b[0;34m()\u001b[0m\n\u001b[0;32m----> 1\u001b[0;31m \u001b[0my\u001b[0m\u001b[0;34m.\u001b[0m\u001b[0misnumeric\u001b[0m\u001b[0;34m\u001b[0m\u001b[0m\n\u001b[0m",
      "\u001b[0;31mNameError\u001b[0m: name 'y' is not defined"
     ]
    }
   ],
   "source": [
    "y.isnumeric"
   ]
  },
  {
   "cell_type": "code",
   "execution_count": null,
   "metadata": {
    "collapsed": false,
    "deletable": true,
    "editable": true
   },
   "outputs": [],
   "source": [
    "x = set([\"123\", \"456\"])"
   ]
  },
  {
   "cell_type": "code",
   "execution_count": null,
   "metadata": {
    "collapsed": false,
    "deletable": true,
    "editable": true
   },
   "outputs": [],
   "source": [
    "\"1243\" in x"
   ]
  },
  {
   "cell_type": "code",
   "execution_count": null,
   "metadata": {
    "collapsed": true,
    "deletable": true,
    "editable": true
   },
   "outputs": [],
   "source": [
    "from piper import preprocessing"
   ]
  },
  {
   "cell_type": "code",
   "execution_count": null,
   "metadata": {
    "collapsed": false,
    "deletable": true,
    "editable": true
   },
   "outputs": [],
   "source": [
    "preprocessing.remove_symbols(texts[15])"
   ]
  },
  {
   "cell_type": "code",
   "execution_count": null,
   "metadata": {
    "collapsed": false,
    "deletable": true,
    "editable": true
   },
   "outputs": [],
   "source": [
    "from piper import parcel_number\n",
    "line = \"File No 500-5830336 CB Warranty Deed - continued APN 232-31-013 7\"\n",
    "parcel_number.extract([line])"
   ]
  },
  {
   "cell_type": "code",
   "execution_count": null,
   "metadata": {
    "collapsed": false,
    "deletable": true,
    "editable": true
   },
   "outputs": [],
   "source": [
    "parcel_pipe = parcel_number.generate_pipe()"
   ]
  },
  {
   "cell_type": "code",
   "execution_count": null,
   "metadata": {
    "collapsed": true,
    "deletable": true,
    "editable": true
   },
   "outputs": [],
   "source": [
    "from piper import predictor"
   ]
  },
  {
   "cell_type": "code",
   "execution_count": null,
   "metadata": {
    "collapsed": false,
    "deletable": true,
    "editable": true
   },
   "outputs": [],
   "source": [
    "tokens = texts[1]\n",
    "predicted = predictor.predict(parcel_pipe, [txt])\n",
    "\n",
    "print(list(zip(txt, predicted)))"
   ]
  },
  {
   "cell_type": "code",
   "execution_count": null,
   "metadata": {
    "collapsed": true,
    "deletable": true,
    "editable": true
   },
   "outputs": [],
   "source": [
    "import re"
   ]
  },
  {
   "cell_type": "code",
   "execution_count": null,
   "metadata": {
    "collapsed": true,
    "deletable": true,
    "editable": true
   },
   "outputs": [],
   "source": [
    "WHITESPACE = re.compile"
   ]
  },
  {
   "cell_type": "code",
   "execution_count": null,
   "metadata": {
    "collapsed": true,
    "deletable": true,
    "editable": true
   },
   "outputs": [],
   "source": [
    "x = []"
   ]
  },
  {
   "cell_type": "code",
   "execution_count": null,
   "metadata": {
    "collapsed": false,
    "deletable": true,
    "editable": true
   },
   "outputs": [],
   "source": [
    "x[:1]"
   ]
  },
  {
   "cell_type": "code",
   "execution_count": null,
   "metadata": {
    "collapsed": true,
    "deletable": true,
    "editable": true
   },
   "outputs": [],
   "source": []
  }
 ],
 "metadata": {
  "kernelspec": {
   "display_name": "Python 3",
   "language": "python",
   "name": "python3"
  },
  "language_info": {
   "codemirror_mode": {
    "name": "ipython",
    "version": 3
   },
   "file_extension": ".py",
   "mimetype": "text/x-python",
   "name": "python",
   "nbconvert_exporter": "python",
   "pygments_lexer": "ipython3",
   "version": "3.5.2"
  }
 },
 "nbformat": 4,
 "nbformat_minor": 2
}
