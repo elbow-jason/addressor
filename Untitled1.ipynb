{
 "cells": [
  {
   "cell_type": "code",
   "execution_count": 31,
   "metadata": {
    "collapsed": false,
    "deletable": true,
    "editable": true
   },
   "outputs": [],
   "source": [
    "from addressor import (generate_pipe, predict)\n",
    "\n",
    "pipe = generate_pipe()\n",
    "stuff = [\n",
    "    \"123 Maple Street San Francisco, California 85555\",\n",
    "    \"Mary Check it out\",\n",
    "    \"1000 dollar bills for 10 people\",\n",
    "    \"First Name Ryan, Last Name BirkishBurstBleck\",\n",
    "    \"17333 N Scottsdale Rd. Scottsdale, AZ 85053\",\n",
    "    \"FIZZ BUZZ THE OUTTA THE WORK\",\n",
    "    \"!23112123123123132\",\n",
    "    \"'asjdfkhasdf9asdfasd|||||||\",\n",
    "    \"123 Maple Rd.\",\n",
    "    \"12 Buckle Your Shoe, 34 Lock the door, 56 pick up sticks\"\n",
    "]\n",
    "\n",
    "predicted = predict(pipe, stuff)"
   ]
  },
  {
   "cell_type": "code",
   "execution_count": 32,
   "metadata": {
    "collapsed": true,
    "deletable": true,
    "editable": true
   },
   "outputs": [],
   "source": [
    "items = {val: pred for (pred, val) in zip(predicted, stuff)}"
   ]
  },
  {
   "cell_type": "code",
   "execution_count": 33,
   "metadata": {
    "collapsed": false,
    "deletable": true,
    "editable": true
   },
   "outputs": [
    {
     "data": {
      "text/plain": [
       "{'!23112123123123132': 'not_address',\n",
       " \"'asjdfkhasdf9asdfasd|||||||\": 'not_address',\n",
       " '1000 dollar bills for 10 people': 'not_address',\n",
       " '12 Buckle Your Shoe, 34 Lock the door, 56 pick up sticks': 'not_address',\n",
       " '123 Maple Rd.': 'address',\n",
       " '123 Maple Street San Francisco, California 85555': 'address',\n",
       " '17333 N Scottsdale Rd. Scottsdale, AZ 85053': 'address',\n",
       " 'FIZZ BUZZ THE OUTTA THE WORK': 'not_address',\n",
       " 'First Name Ryan, Last Name BirkishBurstBleck': 'not_address',\n",
       " 'Mary Check it out': 'not_address'}"
      ]
     },
     "execution_count": 33,
     "metadata": {},
     "output_type": "execute_result"
    }
   ],
   "source": [
    "items"
   ]
  },
  {
   "cell_type": "code",
   "execution_count": 43,
   "metadata": {
    "collapsed": false,
    "deletable": true,
    "editable": true
   },
   "outputs": [],
   "source": [
    "doc_string = \"\"\"\n",
    "Unofficial 20Document\n",
    "Recording Requested by: 14 First American Title Insurance Company H02\n",
    "When recorded mail to: Jack L. O'Brien 14737 West Pecos Lane Sun City West, AZ 85375 WARRANTY DEED\n",
    "File No. 500-5830336 (CB)\n",
    "For the consideration of TEN AND NO/ 100 DOLLARS, and other valuable considerations, I or we,\n",
    "Peggy A. Young-Noble, as Trustee of the Peggy A. Young Trust dated September 24, 1990, the GRANTOR does hereby convey to\n",
    "Jack L. O'Brien, an unmarried man, the GRANTEE the following described real property situate in Maricopa County, Arizona:\n",
    "LOT 13, OF SUN CITY WEST UNIT 55A, ACCORDING TO THE PLAT OF RECORD IN THE OFFICE OF THE COUNTY RECORDER OF MARICOPA COUNTY, ARIZONA, RECORDED IN BOOK 384 OF MAPS, PAGE 22.\n",
    "Pursuant to ARS 33-404, Beneficiaries names and addresses under said trust(s) are disclosed in Beneficiary Disclosure attached hereto.\n",
    "Subject To: Existing taxes, assessments, covenants, conditions, restrictions, rights of way, easements and all other matters of record.\n",
    "And the GRANTOR does warrant the title against all persons whomsoever, subject to the matters set forth above.\n",
    "\"\"\""
   ]
  },
  {
   "cell_type": "code",
   "execution_count": 44,
   "metadata": {
    "collapsed": false,
    "deletable": true,
    "editable": true
   },
   "outputs": [],
   "source": [
    "doc_lines = doc_string.split(\"\\n\")"
   ]
  },
  {
   "cell_type": "code",
   "execution_count": 45,
   "metadata": {
    "collapsed": false
   },
   "outputs": [],
   "source": [
    "def predict_dict(pipe, lines):\n",
    "    predicted = predict(pipe, lines)\n",
    "    return {val: pred for (pred, val) in zip(predicted, lines)}\n",
    "\n",
    "def keep_addresses_only(predictions):\n",
    "    return [key for (key, label) in predictions.items() if label == \"address\"]\n",
    "\n",
    "predicted = predict_dict(pipe, doc_lines)\n",
    "addresses = keep_addresses_only(predicted)"
   ]
  },
  {
   "cell_type": "code",
   "execution_count": 46,
   "metadata": {
    "collapsed": false
   },
   "outputs": [
    {
     "data": {
      "text/plain": [
       "[\"When recorded mail to: Jack L. O'Brien 14737 West Pecos Lane Sun City West, AZ 85375 WARRANTY DEED\"]"
      ]
     },
     "execution_count": 46,
     "metadata": {},
     "output_type": "execute_result"
    }
   ],
   "source": [
    "addresses"
   ]
  },
  {
   "cell_type": "code",
   "execution_count": null,
   "metadata": {
    "collapsed": true
   },
   "outputs": [],
   "source": []
  }
 ],
 "metadata": {
  "kernelspec": {
   "display_name": "Python 3",
   "language": "python",
   "name": "python3"
  },
  "language_info": {
   "codemirror_mode": {
    "name": "ipython",
    "version": 3
   },
   "file_extension": ".py",
   "mimetype": "text/x-python",
   "name": "python",
   "nbconvert_exporter": "python",
   "pygments_lexer": "ipython3",
   "version": "3.5.2"
  }
 },
 "nbformat": 4,
 "nbformat_minor": 2
}
