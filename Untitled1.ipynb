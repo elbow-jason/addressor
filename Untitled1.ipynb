{
 "cells": [
  {
   "cell_type": "code",
   "execution_count": 1,
   "metadata": {
    "collapsed": true,
    "deletable": true,
    "editable": true
   },
   "outputs": [],
   "source": [
    "with open(\"./data/ocr_data.json\") as f:\n",
    "    raw_json = f.read()"
   ]
  },
  {
   "cell_type": "code",
   "execution_count": 2,
   "metadata": {
    "collapsed": false,
    "deletable": true,
    "editable": true
   },
   "outputs": [],
   "source": [
    "import json\n",
    "import re\n",
    "\n",
    "import autocorrect\n",
    "from piper import preprocessing\n",
    "from piper import predictor"
   ]
  },
  {
   "cell_type": "code",
   "execution_count": 3,
   "metadata": {
    "collapsed": false,
    "deletable": true,
    "editable": true
   },
   "outputs": [],
   "source": [
    "data = json.loads(raw_json)\n",
    "# print(data[0])\n",
    "texts = [x.get(\"result\") for x in data if x.get(\"result\")]\n",
    "# print(texts[0])"
   ]
  },
  {
   "cell_type": "code",
   "execution_count": 4,
   "metadata": {
    "collapsed": false,
    "deletable": true,
    "editable": true
   },
   "outputs": [],
   "source": [
    "from piper import strings"
   ]
  },
  {
   "cell_type": "code",
   "execution_count": 5,
   "metadata": {
    "collapsed": false,
    "deletable": true,
    "editable": true
   },
   "outputs": [
    {
     "data": {
      "text/plain": [
       "0.9047619047619048"
      ]
     },
     "execution_count": 5,
     "metadata": {},
     "output_type": "execute_result"
    }
   ],
   "source": [
    "strings.similarity(\"WHEV RECORDED MA L TO\", \"WHEN RECORDED MAIL TO\")"
   ]
  },
  {
   "cell_type": "code",
   "execution_count": 6,
   "metadata": {
    "collapsed": false,
    "deletable": true,
    "editable": true
   },
   "outputs": [
    {
     "data": {
      "text/plain": [
       "'WHEN'"
      ]
     },
     "execution_count": 6,
     "metadata": {},
     "output_type": "execute_result"
    }
   ],
   "source": [
    "autocorrect.spell(\"WHEV\")"
   ]
  },
  {
   "cell_type": "code",
   "execution_count": 7,
   "metadata": {
    "collapsed": false,
    "deletable": true,
    "editable": true
   },
   "outputs": [
    {
     "name": "stdout",
     "output_type": "stream",
     "text": [
      "4381\n",
      "string: Road Unit 2048 Mesa AZ 85210 keepers: ['533 W Guadalupe Road Unit 2048 Mesa AZ 85210']\n",
      "parcels\n",
      " []\n",
      "mail_to\n",
      " [{'name': ['Ricky Gutierrez'], 'address': ['533 W Guadalupe Road Unit 2048', 'Mesa AZ 85210']}]\n",
      "strict_address\n",
      " ['533 W Guadalupe Road Unit 2048 Mesa AZ 85210']\n",
      "escrow_number\n",
      " ['2240047430352']\n",
      "text\n",
      " 20170689383\n",
      "\n",
      "Recording requested by\n",
      "NORTH AMERICAN TITLE COMPANY\n",
      "\n",
      "When recorded mail to\n",
      "Ricky Gutierrez\n",
      "533 W Guadalupe Road Unit 2048\n",
      "\n",
      "Mesa AZ 85210\n",
      "Escrow No 2240047430352\n",
      "\n",
      "WARRANTY DEED\n",
      "\n",
      "For the consideration of TEN AND NED100 DOLLARS and other valuable considerations I or we\n",
      "\n",
      "Kenneth D Lieber and Jenifer L Lieber husband and wife as community property with right of\n",
      "survivorship\n",
      "\n",
      "do hereby convey to\n",
      "Ricky Gutierrez a single man\n",
      "\n",
      "the following described real property situated in Maricopa Arizona\n",
      "\n",
      "LEGAL DESCRIPTION ATIACHED HERETO AS EXHIBIT A AND MADE A PART HEREOF\n",
      "\n",
      "Subject to current taxes and other assessments reservations in patents and alt easements rights of way\n",
      "encumbrances liens covenants conditions restrictions obligations and liabilities as may-appear of record the\n",
      "Grantor warrants the title against all persons whomsoever\n",
      "\n",
      "Ht\n",
      "\n",
      "Dated September-9 2017  \n",
      "w Unofcial Document\n"
     ]
    }
   ],
   "source": [
    "import piper\n",
    "print(len(texts))\n",
    "txt = texts[56]\n",
    "result = piper.run_text(txt)\n",
    "print(\"parcels\\n\", result[\"parcels\"])\n",
    "print(\"mail_to\\n\", result[\"mail_to\"])\n",
    "print(\"strict_address\\n\", result[\"strict_address\"])\n",
    "print(\"escrow_number\\n\", result[\"escrow_number\"])\n",
    "# print(\"organization\\n\", result[\"organization\"])\n",
    "print(\"text\\n\", result[\"text\"])\n",
    "\n"
   ]
  },
  {
   "cell_type": "code",
   "execution_count": 8,
   "metadata": {
    "collapsed": false,
    "deletable": true,
    "editable": true
   },
   "outputs": [],
   "source": [
    "from piper import mail_to"
   ]
  },
  {
   "cell_type": "code",
   "execution_count": 9,
   "metadata": {
    "collapsed": false,
    "deletable": true,
    "editable": true
   },
   "outputs": [
    {
     "data": {
      "text/plain": [
       "['SPECIAL WARRANTY DEED',\n",
       " 'WARRANTY DEED',\n",
       " 'Escrow Number:',\n",
       " 'Escrow No.',\n",
       " 'RE Escrow No']"
      ]
     },
     "execution_count": 9,
     "metadata": {},
     "output_type": "execute_result"
    }
   ],
   "source": [
    "mail_to.SUFFIXES"
   ]
  },
  {
   "cell_type": "code",
   "execution_count": 10,
   "metadata": {
    "collapsed": true,
    "deletable": true,
    "editable": true
   },
   "outputs": [],
   "source": [
    "import usaddress"
   ]
  },
  {
   "cell_type": "code",
   "execution_count": 11,
   "metadata": {
    "collapsed": false,
    "deletable": true,
    "editable": true
   },
   "outputs": [
    {
     "data": {
      "text/plain": [
       "[('21427', 'AddressNumber'),\n",
       " ('W', 'StreetNamePreDirectional'),\n",
       " ('Monte', 'StreetName'),\n",
       " ('Vista', 'StreetName'),\n",
       " ('Rd', 'StreetNamePostType')]"
      ]
     },
     "execution_count": 11,
     "metadata": {},
     "output_type": "execute_result"
    }
   ],
   "source": [
    "usaddress.parse('21427 W Monte Vista Rd')"
   ]
  },
  {
   "cell_type": "code",
   "execution_count": 12,
   "metadata": {
    "collapsed": false,
    "deletable": true,
    "editable": true
   },
   "outputs": [],
   "source": [
    "from piper import organization"
   ]
  },
  {
   "cell_type": "code",
   "execution_count": 13,
   "metadata": {
    "collapsed": false,
    "deletable": true,
    "editable": true
   },
   "outputs": [
    {
     "data": {
      "text/plain": [
       "['Lane LLC Title Insurance CompanyTitle',\n",
       " 'Jefferson-Lee L.L.C.',\n",
       " 'Murray, Fry and Mann , LLC',\n",
       " 'Ferguson Inc Properties',\n",
       " 'Howard PLC Insurance',\n",
       " 'Love-Noble , LLC',\n",
       " 'Williams-Baldwin Insurance',\n",
       " 'Schultz-Zamora INC.',\n",
       " 'Abbott-Garcia Insurance',\n",
       " 'Green, Mcclain and Olson AGENCY',\n",
       " 'Smith-Hayes AGENCY',\n",
       " 'Jensen and Sons , LLC',\n",
       " 'Thompson LLC L.L.C.',\n",
       " 'Shaffer, Morris and Hodges AGENCY',\n",
       " 'Klein LLC Investment',\n",
       " 'Nguyen-Welch American',\n",
       " 'Booth-Brown LLC',\n",
       " 'Henry-Wright Title Insurance CompanyTitle',\n",
       " 'Oliver, Parker and Robertson INC',\n",
       " 'Ramos-Dickson Insurance']"
      ]
     },
     "execution_count": 13,
     "metadata": {},
     "output_type": "execute_result"
    }
   ],
   "source": [
    "organization.get_list(limit=20)"
   ]
  },
  {
   "cell_type": "code",
   "execution_count": 14,
   "metadata": {
    "collapsed": true,
    "deletable": true,
    "editable": true
   },
   "outputs": [],
   "source": [
    "org_pipe = organization.get_pipe()"
   ]
  },
  {
   "cell_type": "code",
   "execution_count": 15,
   "metadata": {
    "collapsed": false,
    "deletable": true,
    "editable": true
   },
   "outputs": [],
   "source": [
    "x = predictor.predict(org_pipe, [\"K Hovnanian at Sienna Hills LLC an Arizona limited liability company\"])"
   ]
  },
  {
   "cell_type": "code",
   "execution_count": 16,
   "metadata": {
    "collapsed": false,
    "deletable": true,
    "editable": true
   },
   "outputs": [
    {
     "data": {
      "text/plain": [
       "['organization']"
      ]
     },
     "execution_count": 16,
     "metadata": {},
     "output_type": "execute_result"
    }
   ],
   "source": [
    "x"
   ]
  },
  {
   "cell_type": "code",
   "execution_count": 17,
   "metadata": {
    "collapsed": false,
    "deletable": true,
    "editable": true
   },
   "outputs": [
    {
     "data": {
      "text/plain": [
       "False"
      ]
     },
     "execution_count": 17,
     "metadata": {},
     "output_type": "execute_result"
    }
   ],
   "source": [
    "x is None"
   ]
  },
  {
   "cell_type": "code",
   "execution_count": null,
   "metadata": {
    "collapsed": true,
    "deletable": true,
    "editable": true
   },
   "outputs": [],
   "source": []
  },
  {
   "cell_type": "code",
   "execution_count": null,
   "metadata": {
    "collapsed": true,
    "deletable": true,
    "editable": true
   },
   "outputs": [],
   "source": []
  },
  {
   "cell_type": "code",
   "execution_count": 18,
   "metadata": {
    "collapsed": false,
    "deletable": true,
    "editable": true
   },
   "outputs": [
    {
     "data": {
      "text/plain": [
       "True"
      ]
     },
     "execution_count": 18,
     "metadata": {},
     "output_type": "execute_result"
    }
   ],
   "source": [
    "\"23\" in \"123\""
   ]
  },
  {
   "cell_type": "code",
   "execution_count": 19,
   "metadata": {
    "collapsed": false,
    "deletable": true,
    "editable": true
   },
   "outputs": [],
   "source": [
    "x = set([\"123\", \"456\"])"
   ]
  },
  {
   "cell_type": "code",
   "execution_count": 20,
   "metadata": {
    "collapsed": false,
    "deletable": true,
    "editable": true
   },
   "outputs": [
    {
     "data": {
      "text/plain": [
       "False"
      ]
     },
     "execution_count": 20,
     "metadata": {},
     "output_type": "execute_result"
    }
   ],
   "source": [
    "\"1243\" in x"
   ]
  },
  {
   "cell_type": "code",
   "execution_count": 21,
   "metadata": {
    "collapsed": true,
    "deletable": true,
    "editable": true
   },
   "outputs": [],
   "source": [
    "from piper import preprocessing"
   ]
  },
  {
   "cell_type": "code",
   "execution_count": 22,
   "metadata": {
    "collapsed": false,
    "deletable": true,
    "editable": true
   },
   "outputs": [
    {
     "data": {
      "text/plain": [
       "'Warrang/ Deed Page 2 of]\\n\\n20170690097 \"\\n1\\n|\\n1\\n\\nWarranty Deed ;\\n\\n1\\nl\\n\\nEscrow No. 17-08-125033TH\\nAPN #: 1 l8-23~055\\n\\nGrantor(s):\\n\\nThe Romero Living Trust dated August 26 2016\\n\\n \\n\\nBY: 592L029 Wm HOWFO/fwsﬁe—\\n\\nEmilio Lopez Romero Co~Trustee\\n\\nBY: fwétéa/aﬁm 2 W’Q 5 C 5373\\n\\nEmiliana Romero Ctr-Trustee\\n\\n \\n\\nState of ARIZONA 55:\\n\\nCounty ofMARICOPA 53:\\n\\nOn September V—lr  201? before me the underﬂgﬁstmument.sonalty appeared Emilio Lopez Romero and Emilina\\nRomero Co-Ttustees personally known to me (01 proved to me on the bas1s of satzsfaetory ewdence) to be the person(s)\\nwhose name(s) is/are subscribed to the within instrument and acknowledged to me that heishe/they executed the same in\\n\\nhis/herftheir authorized capacity/ﬁes) and that by hisx’herltueir signature(s) on the instrument the person(s): or the entity\\nupon behalf of which the person(s) acted executed the instrument. WITNESS my hand and ofﬁcial seal.\\n\\n.\\n\\n \\n\\nLeANNA L. MARTINEZ\\n\\nNotary Public - State of Arimna\\nMARICOPA COUNTY\\nMy Omission Expires\\nmy 2. 3321'"
      ]
     },
     "execution_count": 22,
     "metadata": {},
     "output_type": "execute_result"
    }
   ],
   "source": [
    "preprocessing.remove_symbols(texts[15])"
   ]
  },
  {
   "cell_type": "code",
   "execution_count": 23,
   "metadata": {
    "collapsed": false
   },
   "outputs": [
    {
     "data": {
      "text/plain": [
       "['Warrang/ Deed Page 2 of ] 20170690097 `` 1 | 1 Warranty Deed ;',\n",
       " 'Deed Page 2 of ] 20170690097 `` 1 | 1 Warranty Deed ; 1',\n",
       " 'Page 2 of ] 20170690097 `` 1 | 1 Warranty Deed ; 1 l',\n",
       " '2 of ] 20170690097 `` 1 | 1 Warranty Deed ; 1 l Escrow',\n",
       " 'of ] 20170690097 `` 1 | 1 Warranty Deed ; 1 l Escrow No',\n",
       " '] 20170690097 `` 1 | 1 Warranty Deed ; 1 l Escrow No .',\n",
       " '20170690097 `` 1 | 1 Warranty Deed ; 1 l Escrow No . 17-08-125033TH',\n",
       " '`` 1 | 1 Warranty Deed ; 1 l Escrow No . 17-08-125033TH APN',\n",
       " '1 | 1 Warranty Deed ; 1 l Escrow No . 17-08-125033TH APN #',\n",
       " '| 1 Warranty Deed ; 1 l Escrow No . 17-08-125033TH APN # :',\n",
       " '1 Warranty Deed ; 1 l Escrow No . 17-08-125033TH APN # : 1',\n",
       " 'Warranty Deed ; 1 l Escrow No . 17-08-125033TH APN # : 1 l8-23~055',\n",
       " 'Deed ; 1 l Escrow No . 17-08-125033TH APN # : 1 l8-23~055 Grantor',\n",
       " '; 1 l Escrow No . 17-08-125033TH APN # : 1 l8-23~055 Grantor (',\n",
       " '1 l Escrow No . 17-08-125033TH APN # : 1 l8-23~055 Grantor ( s',\n",
       " 'l Escrow No . 17-08-125033TH APN # : 1 l8-23~055 Grantor ( s )',\n",
       " 'Escrow No . 17-08-125033TH APN # : 1 l8-23~055 Grantor ( s ) :',\n",
       " 'No . 17-08-125033TH APN # : 1 l8-23~055 Grantor ( s ) : The',\n",
       " '. 17-08-125033TH APN # : 1 l8-23~055 Grantor ( s ) : The Romero',\n",
       " '17-08-125033TH APN # : 1 l8-23~055 Grantor ( s ) : The Romero Living',\n",
       " 'APN # : 1 l8-23~055 Grantor ( s ) : The Romero Living Trust',\n",
       " '# : 1 l8-23~055 Grantor ( s ) : The Romero Living Trust ,',\n",
       " ': 1 l8-23~055 Grantor ( s ) : The Romero Living Trust , dated',\n",
       " '1 l8-23~055 Grantor ( s ) : The Romero Living Trust , dated August',\n",
       " 'l8-23~055 Grantor ( s ) : The Romero Living Trust , dated August 26',\n",
       " 'Grantor ( s ) : The Romero Living Trust , dated August 26 ,',\n",
       " '( s ) : The Romero Living Trust , dated August 26 , 2016',\n",
       " 's ) : The Romero Living Trust , dated August 26 , 2016 BY',\n",
       " ') : The Romero Living Trust , dated August 26 , 2016 BY :',\n",
       " ': The Romero Living Trust , dated August 26 , 2016 BY : 592L029',\n",
       " 'The Romero Living Trust , dated August 26 , 2016 BY : 592L029 Wm',\n",
       " 'Romero Living Trust , dated August 26 , 2016 BY : 592L029 Wm HOWFO/fwsﬁe—',\n",
       " 'Living Trust , dated August 26 , 2016 BY : 592L029 Wm HOWFO/fwsﬁe— Emilio',\n",
       " 'Trust , dated August 26 , 2016 BY : 592L029 Wm HOWFO/fwsﬁe— Emilio Lopez',\n",
       " ', dated August 26 , 2016 BY : 592L029 Wm HOWFO/fwsﬁe— Emilio Lopez Romero',\n",
       " 'dated August 26 , 2016 BY : 592L029 Wm HOWFO/fwsﬁe— Emilio Lopez Romero ,',\n",
       " 'August 26 , 2016 BY : 592L029 Wm HOWFO/fwsﬁe— Emilio Lopez Romero , Co~Trustee',\n",
       " '26 , 2016 BY : 592L029 Wm HOWFO/fwsﬁe— Emilio Lopez Romero , Co~Trustee BY',\n",
       " ', 2016 BY : 592L029 Wm HOWFO/fwsﬁe— Emilio Lopez Romero , Co~Trustee BY :',\n",
       " '2016 BY : 592L029 Wm HOWFO/fwsﬁe— Emilio Lopez Romero , Co~Trustee BY : fwétéa/aﬁm',\n",
       " 'BY : 592L029 Wm HOWFO/fwsﬁe— Emilio Lopez Romero , Co~Trustee BY : fwétéa/aﬁm 2',\n",
       " ': 592L029 Wm HOWFO/fwsﬁe— Emilio Lopez Romero , Co~Trustee BY : fwétéa/aﬁm 2 W’Q',\n",
       " '592L029 Wm HOWFO/fwsﬁe— Emilio Lopez Romero , Co~Trustee BY : fwétéa/aﬁm 2 W’Q 5',\n",
       " 'Wm HOWFO/fwsﬁe— Emilio Lopez Romero , Co~Trustee BY : fwétéa/aﬁm 2 W’Q 5 C',\n",
       " 'HOWFO/fwsﬁe— Emilio Lopez Romero , Co~Trustee BY : fwétéa/aﬁm 2 W’Q 5 C 5373',\n",
       " 'Emilio Lopez Romero , Co~Trustee BY : fwétéa/aﬁm 2 W’Q 5 C 5373 Emiliana',\n",
       " 'Lopez Romero , Co~Trustee BY : fwétéa/aﬁm 2 W’Q 5 C 5373 Emiliana Romero',\n",
       " 'Romero , Co~Trustee BY : fwétéa/aﬁm 2 W’Q 5 C 5373 Emiliana Romero ,',\n",
       " ', Co~Trustee BY : fwétéa/aﬁm 2 W’Q 5 C 5373 Emiliana Romero , Ctr-Trustee',\n",
       " 'Co~Trustee BY : fwétéa/aﬁm 2 W’Q 5 C 5373 Emiliana Romero , Ctr-Trustee State',\n",
       " 'BY : fwétéa/aﬁm 2 W’Q 5 C 5373 Emiliana Romero , Ctr-Trustee State of',\n",
       " ': fwétéa/aﬁm 2 W’Q 5 C 5373 Emiliana Romero , Ctr-Trustee State of ARIZONA',\n",
       " 'fwétéa/aﬁm 2 W’Q 5 C 5373 Emiliana Romero , Ctr-Trustee State of ARIZONA }',\n",
       " '2 W’Q 5 C 5373 Emiliana Romero , Ctr-Trustee State of ARIZONA } 55',\n",
       " 'W’Q 5 C 5373 Emiliana Romero , Ctr-Trustee State of ARIZONA } 55 :',\n",
       " '5 C 5373 Emiliana Romero , Ctr-Trustee State of ARIZONA } 55 : County',\n",
       " 'C 5373 Emiliana Romero , Ctr-Trustee State of ARIZONA } 55 : County ofMARICOPA',\n",
       " '5373 Emiliana Romero , Ctr-Trustee State of ARIZONA } 55 : County ofMARICOPA }',\n",
       " 'Emiliana Romero , Ctr-Trustee State of ARIZONA } 55 : County ofMARICOPA } 53',\n",
       " 'Romero , Ctr-Trustee State of ARIZONA } 55 : County ofMARICOPA } 53 :',\n",
       " ', Ctr-Trustee State of ARIZONA } 55 : County ofMARICOPA } 53 : On',\n",
       " 'Ctr-Trustee State of ARIZONA } 55 : County ofMARICOPA } 53 : On September',\n",
       " 'State of ARIZONA } 55 : County ofMARICOPA } 53 : On September V—lr',\n",
       " 'of ARIZONA } 55 : County ofMARICOPA } 53 : On September V—lr ,',\n",
       " 'ARIZONA } 55 : County ofMARICOPA } 53 : On September V—lr , 201',\n",
       " '} 55 : County ofMARICOPA } 53 : On September V—lr , 201 ?',\n",
       " '55 : County ofMARICOPA } 53 : On September V—lr , 201 ? ,',\n",
       " ': County ofMARICOPA } 53 : On September V—lr , 201 ? , before',\n",
       " 'County ofMARICOPA } 53 : On September V—lr , 201 ? , before me',\n",
       " 'ofMARICOPA } 53 : On September V—lr , 201 ? , before me the',\n",
       " '} 53 : On September V—lr , 201 ? , before me the underﬂgﬁstmument.sonalty',\n",
       " '53 : On September V—lr , 201 ? , before me the underﬂgﬁstmument.sonalty appeared',\n",
       " ': On September V—lr , 201 ? , before me the underﬂgﬁstmument.sonalty appeared Emilio',\n",
       " 'On September V—lr , 201 ? , before me the underﬂgﬁstmument.sonalty appeared Emilio Lopez',\n",
       " 'September V—lr , 201 ? , before me the underﬂgﬁstmument.sonalty appeared Emilio Lopez Romero',\n",
       " 'V—lr , 201 ? , before me the underﬂgﬁstmument.sonalty appeared Emilio Lopez Romero and',\n",
       " ', 201 ? , before me the underﬂgﬁstmument.sonalty appeared Emilio Lopez Romero and Emilina',\n",
       " '201 ? , before me the underﬂgﬁstmument.sonalty appeared Emilio Lopez Romero and Emilina Romero',\n",
       " '? , before me the underﬂgﬁstmument.sonalty appeared Emilio Lopez Romero and Emilina Romero ,',\n",
       " ', before me the underﬂgﬁstmument.sonalty appeared Emilio Lopez Romero and Emilina Romero , Co-Tt‘ustees',\n",
       " 'before me the underﬂgﬁstmument.sonalty appeared Emilio Lopez Romero and Emilina Romero , Co-Tt‘ustees personally',\n",
       " 'me the underﬂgﬁstmument.sonalty appeared Emilio Lopez Romero and Emilina Romero , Co-Tt‘ustees personally known',\n",
       " 'the underﬂgﬁstmument.sonalty appeared Emilio Lopez Romero and Emilina Romero , Co-Tt‘ustees personally known to',\n",
       " 'underﬂgﬁstmument.sonalty appeared Emilio Lopez Romero and Emilina Romero , Co-Tt‘ustees personally known to me',\n",
       " 'appeared Emilio Lopez Romero and Emilina Romero , Co-Tt‘ustees personally known to me (',\n",
       " 'Emilio Lopez Romero and Emilina Romero , Co-Tt‘ustees personally known to me ( 01',\n",
       " \"Lopez Romero and Emilina Romero , Co-Tt‘ustees personally known to me ( 01 '\",\n",
       " \"Romero and Emilina Romero , Co-Tt‘ustees personally known to me ( 01 ' proved\",\n",
       " \"and Emilina Romero , Co-Tt‘ustees personally known to me ( 01 ' proved to\",\n",
       " \"Emilina Romero , Co-Tt‘ustees personally known to me ( 01 ' proved to me\",\n",
       " \"Romero , Co-Tt‘ustees personally known to me ( 01 ' proved to me on\",\n",
       " \", Co-Tt‘ustees personally known to me ( 01 ' proved to me on the\",\n",
       " \"Co-Tt‘ustees personally known to me ( 01 ' proved to me on the bas1s\",\n",
       " \"personally known to me ( 01 ' proved to me on the bas1s of\",\n",
       " \"known to me ( 01 ' proved to me on the bas1s of satzsfaetory\",\n",
       " \"to me ( 01 ' proved to me on the bas1s of satzsfaetory ewdence\",\n",
       " \"me ( 01 ' proved to me on the bas1s of satzsfaetory ewdence )\",\n",
       " \"( 01 ' proved to me on the bas1s of satzsfaetory ewdence ) to\",\n",
       " \"01 ' proved to me on the bas1s of satzsfaetory ewdence ) to be\",\n",
       " \"' proved to me on the bas1s of satzsfaetory ewdence ) to be the\",\n",
       " 'proved to me on the bas1s of satzsfaetory ewdence ) to be the person',\n",
       " 'to me on the bas1s of satzsfaetory ewdence ) to be the person (',\n",
       " 'me on the bas1s of satzsfaetory ewdence ) to be the person ( s',\n",
       " 'on the bas1s of satzsfaetory ewdence ) to be the person ( s )',\n",
       " 'the bas1s of satzsfaetory ewdence ) to be the person ( s ) whose',\n",
       " 'bas1s of satzsfaetory ewdence ) to be the person ( s ) whose name',\n",
       " 'of satzsfaetory ewdence ) to be the person ( s ) whose name (',\n",
       " 'satzsfaetory ewdence ) to be the person ( s ) whose name ( s',\n",
       " 'ewdence ) to be the person ( s ) whose name ( s )',\n",
       " ') to be the person ( s ) whose name ( s ) is/are',\n",
       " 'to be the person ( s ) whose name ( s ) is/are subscribed',\n",
       " 'be the person ( s ) whose name ( s ) is/are subscribed to',\n",
       " 'the person ( s ) whose name ( s ) is/are subscribed to the',\n",
       " 'person ( s ) whose name ( s ) is/are subscribed to the within',\n",
       " '( s ) whose name ( s ) is/are subscribed to the within instrument',\n",
       " 's ) whose name ( s ) is/are subscribed to the within instrument and',\n",
       " ') whose name ( s ) is/are subscribed to the within instrument and acknowledged',\n",
       " 'whose name ( s ) is/are subscribed to the within instrument and acknowledged to',\n",
       " 'name ( s ) is/are subscribed to the within instrument and acknowledged to me',\n",
       " '( s ) is/are subscribed to the within instrument and acknowledged to me that',\n",
       " 's ) is/are subscribed to the within instrument and acknowledged to me that heishe/they',\n",
       " ') is/are subscribed to the within instrument and acknowledged to me that heishe/they executed',\n",
       " 'is/are subscribed to the within instrument and acknowledged to me that heishe/they executed the',\n",
       " 'subscribed to the within instrument and acknowledged to me that heishe/they executed the same',\n",
       " 'to the within instrument and acknowledged to me that heishe/they executed the same in',\n",
       " 'the within instrument and acknowledged to me that heishe/they executed the same in his/herftheir',\n",
       " 'within instrument and acknowledged to me that heishe/they executed the same in his/herftheir authorized',\n",
       " 'instrument and acknowledged to me that heishe/they executed the same in his/herftheir authorized capacity/ﬁes',\n",
       " 'and acknowledged to me that heishe/they executed the same in his/herftheir authorized capacity/ﬁes )',\n",
       " 'acknowledged to me that heishe/they executed the same in his/herftheir authorized capacity/ﬁes ) ,',\n",
       " 'to me that heishe/they executed the same in his/herftheir authorized capacity/ﬁes ) , and',\n",
       " 'me that heishe/they executed the same in his/herftheir authorized capacity/ﬁes ) , and that',\n",
       " 'that heishe/they executed the same in his/herftheir authorized capacity/ﬁes ) , and that by',\n",
       " 'heishe/they executed the same in his/herftheir authorized capacity/ﬁes ) , and that by hisx’herltueir',\n",
       " 'executed the same in his/herftheir authorized capacity/ﬁes ) , and that by hisx’herltueir signature',\n",
       " 'the same in his/herftheir authorized capacity/ﬁes ) , and that by hisx’herltueir signature (',\n",
       " 'same in his/herftheir authorized capacity/ﬁes ) , and that by hisx’herltueir signature ( s',\n",
       " 'in his/herftheir authorized capacity/ﬁes ) , and that by hisx’herltueir signature ( s )',\n",
       " 'his/herftheir authorized capacity/ﬁes ) , and that by hisx’herltueir signature ( s ) on',\n",
       " 'authorized capacity/ﬁes ) , and that by hisx’herltueir signature ( s ) on the',\n",
       " 'capacity/ﬁes ) , and that by hisx’herltueir signature ( s ) on the instrument',\n",
       " ') , and that by hisx’herltueir signature ( s ) on the instrument the',\n",
       " ', and that by hisx’herltueir signature ( s ) on the instrument the person',\n",
       " 'and that by hisx’herltueir signature ( s ) on the instrument the person (',\n",
       " 'that by hisx’herltueir signature ( s ) on the instrument the person ( s',\n",
       " 'by hisx’herltueir signature ( s ) on the instrument the person ( s )',\n",
       " 'hisx’herltueir signature ( s ) on the instrument the person ( s ) :',\n",
       " 'signature ( s ) on the instrument the person ( s ) : or',\n",
       " '( s ) on the instrument the person ( s ) : or the',\n",
       " 's ) on the instrument the person ( s ) : or the entity',\n",
       " ') on the instrument the person ( s ) : or the entity upon',\n",
       " 'on the instrument the person ( s ) : or the entity upon behalf',\n",
       " 'the instrument the person ( s ) : or the entity upon behalf of',\n",
       " 'instrument the person ( s ) : or the entity upon behalf of which',\n",
       " 'the person ( s ) : or the entity upon behalf of which the',\n",
       " 'person ( s ) : or the entity upon behalf of which the person',\n",
       " '( s ) : or the entity upon behalf of which the person (',\n",
       " 's ) : or the entity upon behalf of which the person ( s',\n",
       " ') : or the entity upon behalf of which the person ( s )',\n",
       " ': or the entity upon behalf of which the person ( s ) acted',\n",
       " 'or the entity upon behalf of which the person ( s ) acted ,',\n",
       " 'the entity upon behalf of which the person ( s ) acted , executed',\n",
       " 'entity upon behalf of which the person ( s ) acted , executed the',\n",
       " 'upon behalf of which the person ( s ) acted , executed the instrument',\n",
       " 'behalf of which the person ( s ) acted , executed the instrument .',\n",
       " 'of which the person ( s ) acted , executed the instrument . WITNESS',\n",
       " 'which the person ( s ) acted , executed the instrument . WITNESS my',\n",
       " 'the person ( s ) acted , executed the instrument . WITNESS my hand',\n",
       " 'person ( s ) acted , executed the instrument . WITNESS my hand and',\n",
       " '( s ) acted , executed the instrument . WITNESS my hand and ofﬁcial',\n",
       " 's ) acted , executed the instrument . WITNESS my hand and ofﬁcial seal',\n",
       " ') acted , executed the instrument . WITNESS my hand and ofﬁcial seal .',\n",
       " 'acted , executed the instrument . WITNESS my hand and ofﬁcial seal . ,',\n",
       " ', executed the instrument . WITNESS my hand and ofﬁcial seal . , .',\n",
       " 'executed the instrument . WITNESS my hand and ofﬁcial seal . , . LeANNA',\n",
       " 'the instrument . WITNESS my hand and ofﬁcial seal . , . LeANNA L.',\n",
       " 'instrument . WITNESS my hand and ofﬁcial seal . , . LeANNA L. MARTINEZ',\n",
       " '. WITNESS my hand and ofﬁcial seal . , . LeANNA L. MARTINEZ Notary',\n",
       " 'WITNESS my hand and ofﬁcial seal . , . LeANNA L. MARTINEZ Notary Public',\n",
       " 'my hand and ofﬁcial seal . , . LeANNA L. MARTINEZ Notary Public -',\n",
       " 'hand and ofﬁcial seal . , . LeANNA L. MARTINEZ Notary Public - State',\n",
       " 'and ofﬁcial seal . , . LeANNA L. MARTINEZ Notary Public - State of',\n",
       " 'ofﬁcial seal . , . LeANNA L. MARTINEZ Notary Public - State of Arimna',\n",
       " 'seal . , . LeANNA L. MARTINEZ Notary Public - State of Arimna MARICOPA',\n",
       " '. , . LeANNA L. MARTINEZ Notary Public - State of Arimna MARICOPA COUNTY',\n",
       " ', . LeANNA L. MARTINEZ Notary Public - State of Arimna MARICOPA COUNTY My',\n",
       " '. LeANNA L. MARTINEZ Notary Public - State of Arimna MARICOPA COUNTY My Omission',\n",
       " 'LeANNA L. MARTINEZ Notary Public - State of Arimna MARICOPA COUNTY My Omission Expires',\n",
       " 'L. MARTINEZ Notary Public - State of Arimna MARICOPA COUNTY My Omission Expires my',\n",
       " 'MARTINEZ Notary Public - State of Arimna MARICOPA COUNTY My Omission Expires my 2',\n",
       " 'Notary Public - State of Arimna MARICOPA COUNTY My Omission Expires my 2 .']"
      ]
     },
     "execution_count": 23,
     "metadata": {},
     "output_type": "execute_result"
    }
   ],
   "source": [
    "preprocessing.to_word_chunks(texts[15])"
   ]
  },
  {
   "cell_type": "code",
   "execution_count": null,
   "metadata": {
    "collapsed": true
   },
   "outputs": [],
   "source": []
  },
  {
   "cell_type": "code",
   "execution_count": null,
   "metadata": {
    "collapsed": true
   },
   "outputs": [],
   "source": []
  },
  {
   "cell_type": "code",
   "execution_count": 24,
   "metadata": {
    "collapsed": false,
    "deletable": true,
    "editable": true
   },
   "outputs": [
    {
     "data": {
      "text/plain": [
       "['232-31-013']"
      ]
     },
     "execution_count": 24,
     "metadata": {},
     "output_type": "execute_result"
    }
   ],
   "source": [
    "from piper import parcel_number\n",
    "line = \"File No 500-5830336 CB Warranty Deed - continued APN 232-31-013 7\"\n",
    "parcel_number.extract([line])"
   ]
  },
  {
   "cell_type": "code",
   "execution_count": 25,
   "metadata": {
    "collapsed": false,
    "deletable": true,
    "editable": true
   },
   "outputs": [],
   "source": [
    "parcel_pipe = parcel_number.generate_pipe()"
   ]
  },
  {
   "cell_type": "code",
   "execution_count": 26,
   "metadata": {
    "collapsed": true,
    "deletable": true,
    "editable": true
   },
   "outputs": [],
   "source": [
    "from piper import predictor"
   ]
  },
  {
   "cell_type": "code",
   "execution_count": 27,
   "metadata": {
    "collapsed": false,
    "deletable": true,
    "editable": true
   },
   "outputs": [
    {
     "name": "stdout",
     "output_type": "stream",
     "text": [
      "[('2', 'nothing')]\n"
     ]
    }
   ],
   "source": [
    "tokens = texts[1]\n",
    "predicted = predictor.predict(parcel_pipe, [txt])\n",
    "\n",
    "print(list(zip(txt, predicted)))"
   ]
  },
  {
   "cell_type": "code",
   "execution_count": 28,
   "metadata": {
    "collapsed": true,
    "deletable": true,
    "editable": true
   },
   "outputs": [],
   "source": [
    "import re"
   ]
  },
  {
   "cell_type": "code",
   "execution_count": 29,
   "metadata": {
    "collapsed": true,
    "deletable": true,
    "editable": true
   },
   "outputs": [],
   "source": [
    "WHITESPACE = re.compile"
   ]
  },
  {
   "cell_type": "code",
   "execution_count": 30,
   "metadata": {
    "collapsed": true,
    "deletable": true,
    "editable": true
   },
   "outputs": [],
   "source": [
    "x = []"
   ]
  },
  {
   "cell_type": "code",
   "execution_count": 31,
   "metadata": {
    "collapsed": false,
    "deletable": true,
    "editable": true
   },
   "outputs": [
    {
     "data": {
      "text/plain": [
       "[]"
      ]
     },
     "execution_count": 31,
     "metadata": {},
     "output_type": "execute_result"
    }
   ],
   "source": [
    "x[:1]"
   ]
  },
  {
   "cell_type": "code",
   "execution_count": null,
   "metadata": {
    "collapsed": true,
    "deletable": true,
    "editable": true
   },
   "outputs": [],
   "source": []
  },
  {
   "cell_type": "code",
   "execution_count": null,
   "metadata": {
    "collapsed": true
   },
   "outputs": [],
   "source": []
  },
  {
   "cell_type": "code",
   "execution_count": null,
   "metadata": {
    "collapsed": true
   },
   "outputs": [],
   "source": []
  },
  {
   "cell_type": "code",
   "execution_count": null,
   "metadata": {
    "collapsed": true
   },
   "outputs": [],
   "source": []
  }
 ],
 "metadata": {
  "kernelspec": {
   "display_name": "Python 3",
   "language": "python",
   "name": "python3"
  },
  "language_info": {
   "codemirror_mode": {
    "name": "ipython",
    "version": 3
   },
   "file_extension": ".py",
   "mimetype": "text/x-python",
   "name": "python",
   "nbconvert_exporter": "python",
   "pygments_lexer": "ipython3",
   "version": "3.5.2"
  }
 },
 "nbformat": 4,
 "nbformat_minor": 2
}
