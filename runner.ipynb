{
 "cells": [
  {
   "cell_type": "code",
   "execution_count": 1,
   "metadata": {
    "collapsed": true,
    "deletable": true,
    "editable": true
   },
   "outputs": [],
   "source": [
    "with open(\"./data/ocr_data.json\") as f:\n",
    "    raw_json = f.read()"
   ]
  },
  {
   "cell_type": "code",
   "execution_count": 2,
   "metadata": {
    "collapsed": false,
    "deletable": true,
    "editable": true
   },
   "outputs": [],
   "source": [
    "import json\n",
    "import re\n",
    "\n",
    "import autocorrect\n",
    "from piper import preprocessing\n",
    "from piper import predictor"
   ]
  },
  {
   "cell_type": "code",
   "execution_count": 3,
   "metadata": {
    "collapsed": false,
    "deletable": true,
    "editable": true
   },
   "outputs": [
    {
     "name": "stdout",
     "output_type": "stream",
     "text": [
      "{'key': None, 'namespace': None, 'error': None, 'job_id': 17, 'page': 0, 'filename': 'az_maricopa_20170296609-0.png', 'result': \"Unofficial\\n20Document\\n\\nRecording Requested by: 14\\nFirst American Title Insurance Company H02\\n\\nWhen recorded mail to:\\nJack L. O'Brien\\n\\n14737 West Pecos Lane\\nSun City West, AZ 85375\\n\\n \\n\\nWARRANTY DEED\\n\\nFile No. 500-5830336 (CB)\\n\\nFor the consideration of TEN AND NO/ 100 DOLLARS, and other valuable considerations, I or we,\\n\\nPeggy A. Young-Noble, as Trustee of the Peggy A. Young Trust dated September 24,\\n1990, the GRANTOR does hereby convey to\\n\\nJack L. O'Brien, an unmarried man, the GRANTEE\\nthe following described real property situate in Maricopa County, Arizona:\\n\\nLOT 13, OF SUN CITY WEST UNIT 55A, ACCORDING TO THE PLAT OF RECORD IN THE OFFICE OF THE\\nCOUNTY RECORDER OF MARICOPA COUNTY, ARIZONA, RECORDED IN BOOK 384 OF MAPS, PAGE 22.\\n\\nPursuant to ARS 33-404, Beneficiaries names and addresses under said trust(s) are disclosed in\\nBeneficiary Disclosure attached hereto.\\n\\nSubject To: Existing taxes, assessments, covenants, conditions, restrictions, rights of way, easements\\nand all other matters of record.\\n\\nAnd the GRANTOR does warrant the title against all persons whomsoever, subject to the matters set\\nforth above.\", 'started_processing_at': '2017-10-06T17:34:39.215607Z', 'timestamp': '2017-10-06T17:34:41.796479Z', 'finished_processing_at': '2017-10-06T17:34:41.796465Z', 'started_loading_at': '2017-10-06T17:34:38.344012Z', 'status': 'processed', 'finished_loading_at': '2017-10-06T17:34:39.048258Z'}\n"
     ]
    }
   ],
   "source": [
    "data = json.loads(raw_json)\n",
    "# print(data[0])\n",
    "print(data[0])\n",
    "texts = [x.get(\"result\") for x in data if x.get(\"result\")]\n",
    "# print(texts[0])"
   ]
  },
  {
   "cell_type": "code",
   "execution_count": 4,
   "metadata": {
    "collapsed": false,
    "deletable": true,
    "editable": true
   },
   "outputs": [],
   "source": [
    "from piper import strings"
   ]
  },
  {
   "cell_type": "code",
   "execution_count": 5,
   "metadata": {
    "collapsed": false,
    "deletable": true,
    "editable": true
   },
   "outputs": [
    {
     "data": {
      "text/plain": [
       "0.9047619047619048"
      ]
     },
     "execution_count": 5,
     "metadata": {},
     "output_type": "execute_result"
    }
   ],
   "source": [
    "strings.similarity(\"WHEV RECORDED MA L TO\", \"WHEN RECORDED MAIL TO\")"
   ]
  },
  {
   "cell_type": "code",
   "execution_count": 6,
   "metadata": {
    "collapsed": false,
    "deletable": true,
    "editable": true
   },
   "outputs": [
    {
     "data": {
      "text/plain": [
       "'WHEN'"
      ]
     },
     "execution_count": 6,
     "metadata": {},
     "output_type": "execute_result"
    }
   ],
   "source": [
    "autocorrect.spell(\"WHEV\")"
   ]
  },
  {
   "cell_type": "code",
   "execution_count": 7,
   "metadata": {
    "collapsed": false,
    "deletable": true,
    "editable": true
   },
   "outputs": [
    {
     "name": "stdout",
     "output_type": "stream",
     "text": [
      "4381\n",
      "parcel\n",
      " ['176-01-320']\n",
      "mail_to\n",
      " []\n",
      "strict_address\n",
      " ['14414 SPRINGFIELD WAY FOUNTAIN HILLS AZ 85268']\n",
      "escrow_number\n",
      " []\n",
      "organization\n",
      " []\n",
      "legal_person\n",
      " ['AKA ERWIN D']\n",
      "first_name_exact\n",
      " ['DENNIS', 'ENNIS', 'will', 'may', 'JACKSON', 'ERWIN']\n",
      "first_name_fuzzy\n",
      " ['DENNIS', 'ENNIS', 'Notary', 'CKSON', 'JACKSON', 'ERWIN']\n",
      "last_name_exact\n",
      " ['DENNIS', 'person', 'HILLS', 'persons', 'fee', 'hand', 'free', 'ENNIS', 'seal', 'good', 'may', 'JACKSON', 'ERWIN', 'HOLT', 'WAY', 'FOUNTAIN']\n",
      "last_name_fuzzy\n",
      " ['DENNIS', 'HILLS', 'SPRINGFIELD', 'ENNIS', 'STATE', 'CKSON', 'COUNTY', 'JACKSON', 'ERWIN', 'Given', 'HOLT', 'WAY', 'FOUNTAIN', 'Address']\n",
      "text\n",
      " 20170690185\n",
      "\n",
      "OF FOUNTAIN HILLS AZ TITLE NOW VESTS SOLELY IN ERWIN DENNIS JACKSON\n",
      "AKA ERWIN D JACKSON\n",
      "\n",
      "APN 17601-320\n",
      "Property Address 14414 SPRINGFIELD WAY FOUNTAIN HILLS AZ 85268\n",
      "\n",
      "Grantor for itself and its heirs hereby covenants with Grantee its heirs and assigns that Grantor is\n",
      "lawfully seized in fee simple of the above-described premises that it has a good right to convey that the\n",
      "premises are free from all encumbrances that Grantor and its heirs and all persons acquiring any interest\n",
      "in the property granted through or for Grantor will on demand of Grantee or its heirs or assigns and at\n",
      "the expense of Grantee its heirs or assigns execute and instrument necessary for the further assurance of\n",
      "the title to the premises that may be reasonably required and the Grantor and its heirs will forever warrant\n",
      "and defend all of the property so granted to Grantee its heirs against every person lawfully claiming the\n",
      "same or any part thereof\n",
      "\n",
      "Executed and delivered by said Grantor this 1 day of mic JAEZ  20 f2 \n",
      "\n",
      "WMW aim  mm\n",
      "CKSON\n",
      "\n",
      "ERWIN ENNIS CKSON AKA ERWIN D\n",
      "\n",
      " \n",
      "\n",
      " \n",
      "\n",
      "Unofcial Document\n",
      "\n",
      "STATE OF ARIZONA\n",
      "COUNTY or iiiCW 9 913  ss\n",
      "1 gait H LT 41 24  Notary Public in the aforesaid state hereby certify\n",
      "\n",
      " \n",
      "\n",
      "ERWIN DENNIS JACKSON AKA ERWIN D JACKSON whose names isare signed to the\n",
      "foregoing conveyance and who isare known to me acknowledged before me on this day that being\n",
      "informed of the contents of the conveyance heshethey executed the same voluntarily on the day the\n",
      "\n",
      "same bears date\n",
      "\n",
      "11 M a\n",
      "Given under my hand this  1 day of jigIA 8 2  20 t 1\n",
      "\n",
      "seal\n",
      "\n",
      " \n",
      "  \n",
      " \n",
      "\n",
      "5 mg\n",
      "\n",
      "Notary Publie 34 M w iJ\n",
      "My Commission Expires g 34ng 5\n",
      "\n",
      "  \n",
      "\n",
      "SK HOLT CLaRit\n",
      "Notary Puntic - Arizona\n",
      "\n",
      "  \n",
      "\n",
      "Zof2\n"
     ]
    }
   ],
   "source": [
    "import piper\n",
    "print(len(texts))\n",
    "txt = texts[24]\n",
    "doc = piper.TextDocument(txt)\n",
    "doc.run()\n",
    "doc.print_report()"
   ]
  },
  {
   "cell_type": "code",
   "execution_count": 8,
   "metadata": {
    "collapsed": false,
    "deletable": true,
    "editable": true
   },
   "outputs": [],
   "source": [
    "from piper import mail_to"
   ]
  },
  {
   "cell_type": "code",
   "execution_count": 9,
   "metadata": {
    "collapsed": false,
    "deletable": true,
    "editable": true
   },
   "outputs": [
    {
     "data": {
      "text/plain": [
       "['SPECIAL WARRANTY DEED',\n",
       " 'WARRANTY DEED',\n",
       " 'Escrow Number:',\n",
       " 'Escrow No.',\n",
       " 'RE Escrow No']"
      ]
     },
     "execution_count": 9,
     "metadata": {},
     "output_type": "execute_result"
    }
   ],
   "source": [
    "mail_to.SUFFIXES"
   ]
  },
  {
   "cell_type": "code",
   "execution_count": 10,
   "metadata": {
    "collapsed": true,
    "deletable": true,
    "editable": true
   },
   "outputs": [],
   "source": [
    "import usaddress"
   ]
  },
  {
   "cell_type": "code",
   "execution_count": 11,
   "metadata": {
    "collapsed": false,
    "deletable": true,
    "editable": true
   },
   "outputs": [
    {
     "data": {
      "text/plain": [
       "[('21427', 'AddressNumber'),\n",
       " ('W', 'StreetNamePreDirectional'),\n",
       " ('Monte', 'StreetName'),\n",
       " ('Vista', 'StreetName'),\n",
       " ('Rd', 'StreetNamePostType')]"
      ]
     },
     "execution_count": 11,
     "metadata": {},
     "output_type": "execute_result"
    }
   ],
   "source": [
    "usaddress.parse('21427 W Monte Vista Rd')"
   ]
  },
  {
   "cell_type": "code",
   "execution_count": 12,
   "metadata": {
    "collapsed": false,
    "deletable": true,
    "editable": true
   },
   "outputs": [],
   "source": [
    "from piper import organization"
   ]
  },
  {
   "cell_type": "code",
   "execution_count": 13,
   "metadata": {
    "collapsed": false,
    "deletable": true,
    "editable": true
   },
   "outputs": [
    {
     "data": {
      "text/plain": [
       "['Johnson-Moore Agency',\n",
       " 'Rose Ltd First',\n",
       " 'Payne LLC limited liability company',\n",
       " 'Meyer-Smith Properties',\n",
       " 'Humphrey, Moore and Leon American',\n",
       " 'Quinn and Sons Investment',\n",
       " 'Mason, Frederick and Wood Investment',\n",
       " 'Johnson Inc an Arizona limited liability company',\n",
       " 'Evans, Jordan and Smith Properties',\n",
       " 'Smith-Richardson First',\n",
       " 'Davenport, Stewart and Hill American',\n",
       " 'Williams, Edwards and Wright Agency',\n",
       " 'Reed PLC limited liability company',\n",
       " 'Crawford, Erickson and Deleon an Arizona limited liability company',\n",
       " 'Holloway LLC Title Insurance CompanyTitle',\n",
       " 'Ruiz and Sons an Arizona limited liability company',\n",
       " 'Sanders, Cunningham and Swanson Title Insurance CompanyTitle',\n",
       " 'Brown, Bryant and Garrett , LLC',\n",
       " 'Sanchez-Fletcher an Arizona limited liability company',\n",
       " 'Maxwell Ltd Title Insurance CompanyTitle']"
      ]
     },
     "execution_count": 13,
     "metadata": {},
     "output_type": "execute_result"
    }
   ],
   "source": [
    "organization.get_list(limit=20)"
   ]
  },
  {
   "cell_type": "code",
   "execution_count": 14,
   "metadata": {
    "collapsed": true,
    "deletable": true,
    "editable": true
   },
   "outputs": [],
   "source": [
    "org_pipe = organization.get_pipe()"
   ]
  },
  {
   "cell_type": "code",
   "execution_count": 15,
   "metadata": {
    "collapsed": false,
    "deletable": true,
    "editable": true
   },
   "outputs": [],
   "source": [
    "x = predictor.predict(org_pipe, [\"K Hovnanian at Sienna Hills LLC an Arizona limited liability company\"])"
   ]
  },
  {
   "cell_type": "code",
   "execution_count": 16,
   "metadata": {
    "collapsed": false,
    "deletable": true,
    "editable": true
   },
   "outputs": [
    {
     "data": {
      "text/plain": [
       "['organization']"
      ]
     },
     "execution_count": 16,
     "metadata": {},
     "output_type": "execute_result"
    }
   ],
   "source": [
    "x"
   ]
  },
  {
   "cell_type": "code",
   "execution_count": 17,
   "metadata": {
    "collapsed": false,
    "deletable": true,
    "editable": true
   },
   "outputs": [
    {
     "data": {
      "text/plain": [
       "False"
      ]
     },
     "execution_count": 17,
     "metadata": {},
     "output_type": "execute_result"
    }
   ],
   "source": [
    "x is None"
   ]
  },
  {
   "cell_type": "code",
   "execution_count": 18,
   "metadata": {
    "collapsed": false,
    "deletable": true,
    "editable": true
   },
   "outputs": [
    {
     "data": {
      "text/plain": [
       "True"
      ]
     },
     "execution_count": 18,
     "metadata": {},
     "output_type": "execute_result"
    }
   ],
   "source": [
    "\"Q33\".isalnum()"
   ]
  },
  {
   "cell_type": "code",
   "execution_count": null,
   "metadata": {
    "collapsed": true,
    "deletable": true,
    "editable": true
   },
   "outputs": [],
   "source": []
  },
  {
   "cell_type": "code",
   "execution_count": 19,
   "metadata": {
    "collapsed": false,
    "deletable": true,
    "editable": true
   },
   "outputs": [
    {
     "data": {
      "text/plain": [
       "True"
      ]
     },
     "execution_count": 19,
     "metadata": {},
     "output_type": "execute_result"
    }
   ],
   "source": [
    "\"23\" in \"123\""
   ]
  },
  {
   "cell_type": "code",
   "execution_count": 20,
   "metadata": {
    "collapsed": false,
    "deletable": true,
    "editable": true
   },
   "outputs": [],
   "source": [
    "x = set([\"123\", \"456\"])"
   ]
  },
  {
   "cell_type": "code",
   "execution_count": 21,
   "metadata": {
    "collapsed": false,
    "deletable": true,
    "editable": true
   },
   "outputs": [
    {
     "data": {
      "text/plain": [
       "False"
      ]
     },
     "execution_count": 21,
     "metadata": {},
     "output_type": "execute_result"
    }
   ],
   "source": [
    "\"1243\" in x"
   ]
  },
  {
   "cell_type": "code",
   "execution_count": 22,
   "metadata": {
    "collapsed": true,
    "deletable": true,
    "editable": true
   },
   "outputs": [],
   "source": [
    "from piper import preprocessing"
   ]
  },
  {
   "cell_type": "code",
   "execution_count": 23,
   "metadata": {
    "collapsed": false,
    "deletable": true,
    "editable": true
   },
   "outputs": [
    {
     "data": {
      "text/plain": [
       "'Warrang/ Deed Page 2 of]\\n\\n20170690097 \"\\n1\\n|\\n1\\n\\nWarranty Deed ;\\n\\n1\\nl\\n\\nEscrow No. 17-08-125033TH\\nAPN #: 1 l8-23~055\\n\\nGrantor(s):\\n\\nThe Romero Living Trust dated August 26 2016\\n\\n \\n\\nBY: 592L029 Wm HOWFO/fwsﬁe—\\n\\nEmilio Lopez Romero Co~Trustee\\n\\nBY: fwétéa/aﬁm 2 W’Q 5 C 5373\\n\\nEmiliana Romero Ctr-Trustee\\n\\n \\n\\nState of ARIZONA 55:\\n\\nCounty ofMARICOPA 53:\\n\\nOn September V—lr  201? before me the underﬂgﬁstmument.sonalty appeared Emilio Lopez Romero and Emilina\\nRomero Co-Ttustees personally known to me (01 proved to me on the bas1s of satzsfaetory ewdence) to be the person(s)\\nwhose name(s) is/are subscribed to the within instrument and acknowledged to me that heishe/they executed the same in\\n\\nhis/herftheir authorized capacity/ﬁes) and that by hisx’herltueir signature(s) on the instrument the person(s): or the entity\\nupon behalf of which the person(s) acted executed the instrument. WITNESS my hand and ofﬁcial seal.\\n\\n.\\n\\n \\n\\nLeANNA L. MARTINEZ\\n\\nNotary Public - State of Arimna\\nMARICOPA COUNTY\\nMy Omission Expires\\nmy 2. 3321'"
      ]
     },
     "execution_count": 23,
     "metadata": {},
     "output_type": "execute_result"
    }
   ],
   "source": [
    "preprocessing.remove_symbols(texts[15])"
   ]
  },
  {
   "cell_type": "code",
   "execution_count": 24,
   "metadata": {
    "collapsed": false,
    "deletable": true,
    "editable": true
   },
   "outputs": [
    {
     "data": {
      "text/plain": [
       "['Warrang/ Deed Page 2 of ] 20170690097 `` 1 | 1 Warranty Deed ;',\n",
       " 'Deed Page 2 of ] 20170690097 `` 1 | 1 Warranty Deed ; 1',\n",
       " 'Page 2 of ] 20170690097 `` 1 | 1 Warranty Deed ; 1 l',\n",
       " '2 of ] 20170690097 `` 1 | 1 Warranty Deed ; 1 l Escrow',\n",
       " 'of ] 20170690097 `` 1 | 1 Warranty Deed ; 1 l Escrow No',\n",
       " '] 20170690097 `` 1 | 1 Warranty Deed ; 1 l Escrow No .',\n",
       " '20170690097 `` 1 | 1 Warranty Deed ; 1 l Escrow No . 17-08-125033TH',\n",
       " '`` 1 | 1 Warranty Deed ; 1 l Escrow No . 17-08-125033TH APN',\n",
       " '1 | 1 Warranty Deed ; 1 l Escrow No . 17-08-125033TH APN #',\n",
       " '| 1 Warranty Deed ; 1 l Escrow No . 17-08-125033TH APN # :',\n",
       " '1 Warranty Deed ; 1 l Escrow No . 17-08-125033TH APN # : 1',\n",
       " 'Warranty Deed ; 1 l Escrow No . 17-08-125033TH APN # : 1 l8-23~055',\n",
       " 'Deed ; 1 l Escrow No . 17-08-125033TH APN # : 1 l8-23~055 Grantor',\n",
       " '; 1 l Escrow No . 17-08-125033TH APN # : 1 l8-23~055 Grantor (',\n",
       " '1 l Escrow No . 17-08-125033TH APN # : 1 l8-23~055 Grantor ( s',\n",
       " 'l Escrow No . 17-08-125033TH APN # : 1 l8-23~055 Grantor ( s )',\n",
       " 'Escrow No . 17-08-125033TH APN # : 1 l8-23~055 Grantor ( s ) :',\n",
       " 'No . 17-08-125033TH APN # : 1 l8-23~055 Grantor ( s ) : The',\n",
       " '. 17-08-125033TH APN # : 1 l8-23~055 Grantor ( s ) : The Romero',\n",
       " '17-08-125033TH APN # : 1 l8-23~055 Grantor ( s ) : The Romero Living',\n",
       " 'APN # : 1 l8-23~055 Grantor ( s ) : The Romero Living Trust',\n",
       " '# : 1 l8-23~055 Grantor ( s ) : The Romero Living Trust ,',\n",
       " ': 1 l8-23~055 Grantor ( s ) : The Romero Living Trust , dated',\n",
       " '1 l8-23~055 Grantor ( s ) : The Romero Living Trust , dated August',\n",
       " 'l8-23~055 Grantor ( s ) : The Romero Living Trust , dated August 26',\n",
       " 'Grantor ( s ) : The Romero Living Trust , dated August 26 ,',\n",
       " '( s ) : The Romero Living Trust , dated August 26 , 2016',\n",
       " 's ) : The Romero Living Trust , dated August 26 , 2016 BY',\n",
       " ') : The Romero Living Trust , dated August 26 , 2016 BY :',\n",
       " ': The Romero Living Trust , dated August 26 , 2016 BY : 592L029',\n",
       " 'The Romero Living Trust , dated August 26 , 2016 BY : 592L029 Wm',\n",
       " 'Romero Living Trust , dated August 26 , 2016 BY : 592L029 Wm HOWFO/fwsﬁe—',\n",
       " 'Living Trust , dated August 26 , 2016 BY : 592L029 Wm HOWFO/fwsﬁe— Emilio',\n",
       " 'Trust , dated August 26 , 2016 BY : 592L029 Wm HOWFO/fwsﬁe— Emilio Lopez',\n",
       " ', dated August 26 , 2016 BY : 592L029 Wm HOWFO/fwsﬁe— Emilio Lopez Romero',\n",
       " 'dated August 26 , 2016 BY : 592L029 Wm HOWFO/fwsﬁe— Emilio Lopez Romero ,',\n",
       " 'August 26 , 2016 BY : 592L029 Wm HOWFO/fwsﬁe— Emilio Lopez Romero , Co~Trustee',\n",
       " '26 , 2016 BY : 592L029 Wm HOWFO/fwsﬁe— Emilio Lopez Romero , Co~Trustee BY',\n",
       " ', 2016 BY : 592L029 Wm HOWFO/fwsﬁe— Emilio Lopez Romero , Co~Trustee BY :',\n",
       " '2016 BY : 592L029 Wm HOWFO/fwsﬁe— Emilio Lopez Romero , Co~Trustee BY : fwétéa/aﬁm',\n",
       " 'BY : 592L029 Wm HOWFO/fwsﬁe— Emilio Lopez Romero , Co~Trustee BY : fwétéa/aﬁm 2',\n",
       " ': 592L029 Wm HOWFO/fwsﬁe— Emilio Lopez Romero , Co~Trustee BY : fwétéa/aﬁm 2 W’Q',\n",
       " '592L029 Wm HOWFO/fwsﬁe— Emilio Lopez Romero , Co~Trustee BY : fwétéa/aﬁm 2 W’Q 5',\n",
       " 'Wm HOWFO/fwsﬁe— Emilio Lopez Romero , Co~Trustee BY : fwétéa/aﬁm 2 W’Q 5 C',\n",
       " 'HOWFO/fwsﬁe— Emilio Lopez Romero , Co~Trustee BY : fwétéa/aﬁm 2 W’Q 5 C 5373',\n",
       " 'Emilio Lopez Romero , Co~Trustee BY : fwétéa/aﬁm 2 W’Q 5 C 5373 Emiliana',\n",
       " 'Lopez Romero , Co~Trustee BY : fwétéa/aﬁm 2 W’Q 5 C 5373 Emiliana Romero',\n",
       " 'Romero , Co~Trustee BY : fwétéa/aﬁm 2 W’Q 5 C 5373 Emiliana Romero ,',\n",
       " ', Co~Trustee BY : fwétéa/aﬁm 2 W’Q 5 C 5373 Emiliana Romero , Ctr-Trustee',\n",
       " 'Co~Trustee BY : fwétéa/aﬁm 2 W’Q 5 C 5373 Emiliana Romero , Ctr-Trustee State',\n",
       " 'BY : fwétéa/aﬁm 2 W’Q 5 C 5373 Emiliana Romero , Ctr-Trustee State of',\n",
       " ': fwétéa/aﬁm 2 W’Q 5 C 5373 Emiliana Romero , Ctr-Trustee State of ARIZONA',\n",
       " 'fwétéa/aﬁm 2 W’Q 5 C 5373 Emiliana Romero , Ctr-Trustee State of ARIZONA }',\n",
       " '2 W’Q 5 C 5373 Emiliana Romero , Ctr-Trustee State of ARIZONA } 55',\n",
       " 'W’Q 5 C 5373 Emiliana Romero , Ctr-Trustee State of ARIZONA } 55 :',\n",
       " '5 C 5373 Emiliana Romero , Ctr-Trustee State of ARIZONA } 55 : County',\n",
       " 'C 5373 Emiliana Romero , Ctr-Trustee State of ARIZONA } 55 : County ofMARICOPA',\n",
       " '5373 Emiliana Romero , Ctr-Trustee State of ARIZONA } 55 : County ofMARICOPA }',\n",
       " 'Emiliana Romero , Ctr-Trustee State of ARIZONA } 55 : County ofMARICOPA } 53',\n",
       " 'Romero , Ctr-Trustee State of ARIZONA } 55 : County ofMARICOPA } 53 :',\n",
       " ', Ctr-Trustee State of ARIZONA } 55 : County ofMARICOPA } 53 : On',\n",
       " 'Ctr-Trustee State of ARIZONA } 55 : County ofMARICOPA } 53 : On September',\n",
       " 'State of ARIZONA } 55 : County ofMARICOPA } 53 : On September V—lr',\n",
       " 'of ARIZONA } 55 : County ofMARICOPA } 53 : On September V—lr ,',\n",
       " 'ARIZONA } 55 : County ofMARICOPA } 53 : On September V—lr , 201',\n",
       " '} 55 : County ofMARICOPA } 53 : On September V—lr , 201 ?',\n",
       " '55 : County ofMARICOPA } 53 : On September V—lr , 201 ? ,',\n",
       " ': County ofMARICOPA } 53 : On September V—lr , 201 ? , before',\n",
       " 'County ofMARICOPA } 53 : On September V—lr , 201 ? , before me',\n",
       " 'ofMARICOPA } 53 : On September V—lr , 201 ? , before me the',\n",
       " '} 53 : On September V—lr , 201 ? , before me the underﬂgﬁstmument.sonalty',\n",
       " '53 : On September V—lr , 201 ? , before me the underﬂgﬁstmument.sonalty appeared',\n",
       " ': On September V—lr , 201 ? , before me the underﬂgﬁstmument.sonalty appeared Emilio',\n",
       " 'On September V—lr , 201 ? , before me the underﬂgﬁstmument.sonalty appeared Emilio Lopez',\n",
       " 'September V—lr , 201 ? , before me the underﬂgﬁstmument.sonalty appeared Emilio Lopez Romero',\n",
       " 'V—lr , 201 ? , before me the underﬂgﬁstmument.sonalty appeared Emilio Lopez Romero and',\n",
       " ', 201 ? , before me the underﬂgﬁstmument.sonalty appeared Emilio Lopez Romero and Emilina',\n",
       " '201 ? , before me the underﬂgﬁstmument.sonalty appeared Emilio Lopez Romero and Emilina Romero',\n",
       " '? , before me the underﬂgﬁstmument.sonalty appeared Emilio Lopez Romero and Emilina Romero ,',\n",
       " ', before me the underﬂgﬁstmument.sonalty appeared Emilio Lopez Romero and Emilina Romero , Co-Tt‘ustees',\n",
       " 'before me the underﬂgﬁstmument.sonalty appeared Emilio Lopez Romero and Emilina Romero , Co-Tt‘ustees personally',\n",
       " 'me the underﬂgﬁstmument.sonalty appeared Emilio Lopez Romero and Emilina Romero , Co-Tt‘ustees personally known',\n",
       " 'the underﬂgﬁstmument.sonalty appeared Emilio Lopez Romero and Emilina Romero , Co-Tt‘ustees personally known to',\n",
       " 'underﬂgﬁstmument.sonalty appeared Emilio Lopez Romero and Emilina Romero , Co-Tt‘ustees personally known to me',\n",
       " 'appeared Emilio Lopez Romero and Emilina Romero , Co-Tt‘ustees personally known to me (',\n",
       " 'Emilio Lopez Romero and Emilina Romero , Co-Tt‘ustees personally known to me ( 01',\n",
       " \"Lopez Romero and Emilina Romero , Co-Tt‘ustees personally known to me ( 01 '\",\n",
       " \"Romero and Emilina Romero , Co-Tt‘ustees personally known to me ( 01 ' proved\",\n",
       " \"and Emilina Romero , Co-Tt‘ustees personally known to me ( 01 ' proved to\",\n",
       " \"Emilina Romero , Co-Tt‘ustees personally known to me ( 01 ' proved to me\",\n",
       " \"Romero , Co-Tt‘ustees personally known to me ( 01 ' proved to me on\",\n",
       " \", Co-Tt‘ustees personally known to me ( 01 ' proved to me on the\",\n",
       " \"Co-Tt‘ustees personally known to me ( 01 ' proved to me on the bas1s\",\n",
       " \"personally known to me ( 01 ' proved to me on the bas1s of\",\n",
       " \"known to me ( 01 ' proved to me on the bas1s of satzsfaetory\",\n",
       " \"to me ( 01 ' proved to me on the bas1s of satzsfaetory ewdence\",\n",
       " \"me ( 01 ' proved to me on the bas1s of satzsfaetory ewdence )\",\n",
       " \"( 01 ' proved to me on the bas1s of satzsfaetory ewdence ) to\",\n",
       " \"01 ' proved to me on the bas1s of satzsfaetory ewdence ) to be\",\n",
       " \"' proved to me on the bas1s of satzsfaetory ewdence ) to be the\",\n",
       " 'proved to me on the bas1s of satzsfaetory ewdence ) to be the person',\n",
       " 'to me on the bas1s of satzsfaetory ewdence ) to be the person (',\n",
       " 'me on the bas1s of satzsfaetory ewdence ) to be the person ( s',\n",
       " 'on the bas1s of satzsfaetory ewdence ) to be the person ( s )',\n",
       " 'the bas1s of satzsfaetory ewdence ) to be the person ( s ) whose',\n",
       " 'bas1s of satzsfaetory ewdence ) to be the person ( s ) whose name',\n",
       " 'of satzsfaetory ewdence ) to be the person ( s ) whose name (',\n",
       " 'satzsfaetory ewdence ) to be the person ( s ) whose name ( s',\n",
       " 'ewdence ) to be the person ( s ) whose name ( s )',\n",
       " ') to be the person ( s ) whose name ( s ) is/are',\n",
       " 'to be the person ( s ) whose name ( s ) is/are subscribed',\n",
       " 'be the person ( s ) whose name ( s ) is/are subscribed to',\n",
       " 'the person ( s ) whose name ( s ) is/are subscribed to the',\n",
       " 'person ( s ) whose name ( s ) is/are subscribed to the within',\n",
       " '( s ) whose name ( s ) is/are subscribed to the within instrument',\n",
       " 's ) whose name ( s ) is/are subscribed to the within instrument and',\n",
       " ') whose name ( s ) is/are subscribed to the within instrument and acknowledged',\n",
       " 'whose name ( s ) is/are subscribed to the within instrument and acknowledged to',\n",
       " 'name ( s ) is/are subscribed to the within instrument and acknowledged to me',\n",
       " '( s ) is/are subscribed to the within instrument and acknowledged to me that',\n",
       " 's ) is/are subscribed to the within instrument and acknowledged to me that heishe/they',\n",
       " ') is/are subscribed to the within instrument and acknowledged to me that heishe/they executed',\n",
       " 'is/are subscribed to the within instrument and acknowledged to me that heishe/they executed the',\n",
       " 'subscribed to the within instrument and acknowledged to me that heishe/they executed the same',\n",
       " 'to the within instrument and acknowledged to me that heishe/they executed the same in',\n",
       " 'the within instrument and acknowledged to me that heishe/they executed the same in his/herftheir',\n",
       " 'within instrument and acknowledged to me that heishe/they executed the same in his/herftheir authorized',\n",
       " 'instrument and acknowledged to me that heishe/they executed the same in his/herftheir authorized capacity/ﬁes',\n",
       " 'and acknowledged to me that heishe/they executed the same in his/herftheir authorized capacity/ﬁes )',\n",
       " 'acknowledged to me that heishe/they executed the same in his/herftheir authorized capacity/ﬁes ) ,',\n",
       " 'to me that heishe/they executed the same in his/herftheir authorized capacity/ﬁes ) , and',\n",
       " 'me that heishe/they executed the same in his/herftheir authorized capacity/ﬁes ) , and that',\n",
       " 'that heishe/they executed the same in his/herftheir authorized capacity/ﬁes ) , and that by',\n",
       " 'heishe/they executed the same in his/herftheir authorized capacity/ﬁes ) , and that by hisx’herltueir',\n",
       " 'executed the same in his/herftheir authorized capacity/ﬁes ) , and that by hisx’herltueir signature',\n",
       " 'the same in his/herftheir authorized capacity/ﬁes ) , and that by hisx’herltueir signature (',\n",
       " 'same in his/herftheir authorized capacity/ﬁes ) , and that by hisx’herltueir signature ( s',\n",
       " 'in his/herftheir authorized capacity/ﬁes ) , and that by hisx’herltueir signature ( s )',\n",
       " 'his/herftheir authorized capacity/ﬁes ) , and that by hisx’herltueir signature ( s ) on',\n",
       " 'authorized capacity/ﬁes ) , and that by hisx’herltueir signature ( s ) on the',\n",
       " 'capacity/ﬁes ) , and that by hisx’herltueir signature ( s ) on the instrument',\n",
       " ') , and that by hisx’herltueir signature ( s ) on the instrument the',\n",
       " ', and that by hisx’herltueir signature ( s ) on the instrument the person',\n",
       " 'and that by hisx’herltueir signature ( s ) on the instrument the person (',\n",
       " 'that by hisx’herltueir signature ( s ) on the instrument the person ( s',\n",
       " 'by hisx’herltueir signature ( s ) on the instrument the person ( s )',\n",
       " 'hisx’herltueir signature ( s ) on the instrument the person ( s ) :',\n",
       " 'signature ( s ) on the instrument the person ( s ) : or',\n",
       " '( s ) on the instrument the person ( s ) : or the',\n",
       " 's ) on the instrument the person ( s ) : or the entity',\n",
       " ') on the instrument the person ( s ) : or the entity upon',\n",
       " 'on the instrument the person ( s ) : or the entity upon behalf',\n",
       " 'the instrument the person ( s ) : or the entity upon behalf of',\n",
       " 'instrument the person ( s ) : or the entity upon behalf of which',\n",
       " 'the person ( s ) : or the entity upon behalf of which the',\n",
       " 'person ( s ) : or the entity upon behalf of which the person',\n",
       " '( s ) : or the entity upon behalf of which the person (',\n",
       " 's ) : or the entity upon behalf of which the person ( s',\n",
       " ') : or the entity upon behalf of which the person ( s )',\n",
       " ': or the entity upon behalf of which the person ( s ) acted',\n",
       " 'or the entity upon behalf of which the person ( s ) acted ,',\n",
       " 'the entity upon behalf of which the person ( s ) acted , executed',\n",
       " 'entity upon behalf of which the person ( s ) acted , executed the',\n",
       " 'upon behalf of which the person ( s ) acted , executed the instrument',\n",
       " 'behalf of which the person ( s ) acted , executed the instrument .',\n",
       " 'of which the person ( s ) acted , executed the instrument . WITNESS',\n",
       " 'which the person ( s ) acted , executed the instrument . WITNESS my',\n",
       " 'the person ( s ) acted , executed the instrument . WITNESS my hand',\n",
       " 'person ( s ) acted , executed the instrument . WITNESS my hand and',\n",
       " '( s ) acted , executed the instrument . WITNESS my hand and ofﬁcial',\n",
       " 's ) acted , executed the instrument . WITNESS my hand and ofﬁcial seal',\n",
       " ') acted , executed the instrument . WITNESS my hand and ofﬁcial seal .',\n",
       " 'acted , executed the instrument . WITNESS my hand and ofﬁcial seal . ,',\n",
       " ', executed the instrument . WITNESS my hand and ofﬁcial seal . , .',\n",
       " 'executed the instrument . WITNESS my hand and ofﬁcial seal . , . LeANNA',\n",
       " 'the instrument . WITNESS my hand and ofﬁcial seal . , . LeANNA L.',\n",
       " 'instrument . WITNESS my hand and ofﬁcial seal . , . LeANNA L. MARTINEZ',\n",
       " '. WITNESS my hand and ofﬁcial seal . , . LeANNA L. MARTINEZ Notary',\n",
       " 'WITNESS my hand and ofﬁcial seal . , . LeANNA L. MARTINEZ Notary Public',\n",
       " 'my hand and ofﬁcial seal . , . LeANNA L. MARTINEZ Notary Public -',\n",
       " 'hand and ofﬁcial seal . , . LeANNA L. MARTINEZ Notary Public - State',\n",
       " 'and ofﬁcial seal . , . LeANNA L. MARTINEZ Notary Public - State of',\n",
       " 'ofﬁcial seal . , . LeANNA L. MARTINEZ Notary Public - State of Arimna',\n",
       " 'seal . , . LeANNA L. MARTINEZ Notary Public - State of Arimna MARICOPA',\n",
       " '. , . LeANNA L. MARTINEZ Notary Public - State of Arimna MARICOPA COUNTY',\n",
       " ', . LeANNA L. MARTINEZ Notary Public - State of Arimna MARICOPA COUNTY My',\n",
       " '. LeANNA L. MARTINEZ Notary Public - State of Arimna MARICOPA COUNTY My Omission',\n",
       " 'LeANNA L. MARTINEZ Notary Public - State of Arimna MARICOPA COUNTY My Omission Expires',\n",
       " 'L. MARTINEZ Notary Public - State of Arimna MARICOPA COUNTY My Omission Expires my',\n",
       " 'MARTINEZ Notary Public - State of Arimna MARICOPA COUNTY My Omission Expires my 2',\n",
       " 'Notary Public - State of Arimna MARICOPA COUNTY My Omission Expires my 2 .']"
      ]
     },
     "execution_count": 24,
     "metadata": {},
     "output_type": "execute_result"
    }
   ],
   "source": [
    "preprocessing.to_word_chunks(texts[15])"
   ]
  },
  {
   "cell_type": "code",
   "execution_count": null,
   "metadata": {
    "collapsed": true,
    "deletable": true,
    "editable": true
   },
   "outputs": [],
   "source": []
  },
  {
   "cell_type": "code",
   "execution_count": null,
   "metadata": {
    "collapsed": true,
    "deletable": true,
    "editable": true
   },
   "outputs": [],
   "source": []
  },
  {
   "cell_type": "code",
   "execution_count": 25,
   "metadata": {
    "collapsed": false,
    "deletable": true,
    "editable": true
   },
   "outputs": [
    {
     "data": {
      "text/plain": [
       "['232-31-013']"
      ]
     },
     "execution_count": 25,
     "metadata": {},
     "output_type": "execute_result"
    }
   ],
   "source": [
    "from piper import parcel_number\n",
    "line = \"File No 500-5830336 CB Warranty Deed - continued APN 232-31-013 7\"\n",
    "parcel_number.extract([line])\n"
   ]
  },
  {
   "cell_type": "code",
   "execution_count": 26,
   "metadata": {
    "collapsed": false,
    "deletable": true,
    "editable": true
   },
   "outputs": [],
   "source": [
    "# parcel_pipe = parcel_number.generate_pipe()"
   ]
  },
  {
   "cell_type": "code",
   "execution_count": 27,
   "metadata": {
    "collapsed": true,
    "deletable": true,
    "editable": true
   },
   "outputs": [],
   "source": [
    "from piper import predictor"
   ]
  },
  {
   "cell_type": "code",
   "execution_count": 28,
   "metadata": {
    "collapsed": false,
    "deletable": true,
    "editable": true
   },
   "outputs": [],
   "source": [
    "tokens = texts[1]\n"
   ]
  },
  {
   "cell_type": "code",
   "execution_count": 29,
   "metadata": {
    "collapsed": true,
    "deletable": true,
    "editable": true
   },
   "outputs": [],
   "source": [
    "import re"
   ]
  },
  {
   "cell_type": "code",
   "execution_count": 30,
   "metadata": {
    "collapsed": true,
    "deletable": true,
    "editable": true
   },
   "outputs": [],
   "source": [
    "WHITESPACE = re.compile"
   ]
  },
  {
   "cell_type": "code",
   "execution_count": 31,
   "metadata": {
    "collapsed": true,
    "deletable": true,
    "editable": true
   },
   "outputs": [],
   "source": [
    "x = []"
   ]
  },
  {
   "cell_type": "code",
   "execution_count": 32,
   "metadata": {
    "collapsed": false,
    "deletable": true,
    "editable": true
   },
   "outputs": [
    {
     "data": {
      "text/plain": [
       "[]"
      ]
     },
     "execution_count": 32,
     "metadata": {},
     "output_type": "execute_result"
    }
   ],
   "source": [
    "x[:1]"
   ]
  },
  {
   "cell_type": "code",
   "execution_count": 33,
   "metadata": {
    "collapsed": false,
    "deletable": true,
    "editable": true
   },
   "outputs": [],
   "source": [
    "from piper import first_name"
   ]
  },
  {
   "cell_type": "code",
   "execution_count": 34,
   "metadata": {
    "collapsed": false,
    "deletable": true,
    "editable": true
   },
   "outputs": [
    {
     "data": {
      "text/plain": [
       "18076"
      ]
     },
     "execution_count": 34,
     "metadata": {},
     "output_type": "execute_result"
    }
   ],
   "source": [
    "len(first_name.names)"
   ]
  },
  {
   "cell_type": "code",
   "execution_count": 35,
   "metadata": {
    "collapsed": false,
    "deletable": true,
    "editable": true
   },
   "outputs": [
    {
     "data": {
      "text/plain": [
       "18076"
      ]
     },
     "execution_count": 35,
     "metadata": {},
     "output_type": "execute_result"
    }
   ],
   "source": [
    "len(set(first_name.names))"
   ]
  },
  {
   "cell_type": "code",
   "execution_count": 36,
   "metadata": {
    "collapsed": false,
    "deletable": true,
    "editable": true
   },
   "outputs": [
    {
     "data": {
      "text/plain": [
       "{'oden',\n",
       " 'pallvi',\n",
       " 'joan',\n",
       " 'himanshu',\n",
       " 'olicia',\n",
       " 'terryll',\n",
       " 'raghuveer',\n",
       " 'leeroy',\n",
       " 'taruna',\n",
       " 'latrail',\n",
       " 'drinel',\n",
       " 'khalil',\n",
       " 'mantasha',\n",
       " 'zackarah',\n",
       " 'sharmila',\n",
       " 'tarice',\n",
       " 'lashon',\n",
       " 'nathulal',\n",
       " 'nathi',\n",
       " 'cheo',\n",
       " 'kenno',\n",
       " 'lubens',\n",
       " 'shakiar',\n",
       " 'rahmel',\n",
       " 'alecia',\n",
       " 'sabatio',\n",
       " 'jauli',\n",
       " 'garner',\n",
       " 'darryl',\n",
       " 'rampher',\n",
       " 'jonas',\n",
       " 'jolene',\n",
       " 'yaadram',\n",
       " 'jerrial',\n",
       " 'lesville',\n",
       " 'shaba',\n",
       " 'quamayne',\n",
       " 'lonnie',\n",
       " 'jerold',\n",
       " 'aanad',\n",
       " 'mhega',\n",
       " 'gaverne',\n",
       " 'keia',\n",
       " 'ishatkar',\n",
       " 'reco',\n",
       " 'ricarlo',\n",
       " 'darrie',\n",
       " 'saivon',\n",
       " 'sherika',\n",
       " 'emmitt',\n",
       " 'sukhbeer',\n",
       " 'raylon',\n",
       " 'sahnara',\n",
       " 'fool',\n",
       " 'dharmendera',\n",
       " 'swarn',\n",
       " 'asmit',\n",
       " 'aldean',\n",
       " 'germaine',\n",
       " 'jovanta',\n",
       " 'joelis',\n",
       " 'jephte',\n",
       " 'rajkarnta',\n",
       " 'odelyn',\n",
       " 'enrico',\n",
       " 'jorj',\n",
       " 'marcquis',\n",
       " 'vanny',\n",
       " 'aubrie',\n",
       " 'sohi',\n",
       " 'rosalio',\n",
       " 'ashrabi',\n",
       " 'tannu',\n",
       " 'evasio',\n",
       " 'yasmani',\n",
       " 'rucksana',\n",
       " 'murtibai',\n",
       " 'rambha',\n",
       " 'rana',\n",
       " 'avantika',\n",
       " 'sharib',\n",
       " 'horkene',\n",
       " 'kayum',\n",
       " 'ilema',\n",
       " 'tavares',\n",
       " 'uttam',\n",
       " 'riju',\n",
       " 'kentrel',\n",
       " 'shantoya',\n",
       " 'mandu',\n",
       " 'suraiya',\n",
       " 'kizza',\n",
       " 'stencil',\n",
       " 'zevulon',\n",
       " 'casie',\n",
       " 'venices',\n",
       " 'luc',\n",
       " 'rahishudeen',\n",
       " 'salama',\n",
       " 'paramveer',\n",
       " 'nahume',\n",
       " 'aged',\n",
       " 'pankajsheel',\n",
       " 'meesh',\n",
       " 'dewitt',\n",
       " 'riyajudin',\n",
       " 'jeffrie',\n",
       " 'gangaram',\n",
       " 'reinold',\n",
       " 'harman',\n",
       " 'durgesh',\n",
       " 'moshri',\n",
       " 'khushbhu',\n",
       " 'sazi',\n",
       " 'sheardrick',\n",
       " 'mubashir',\n",
       " 'donta',\n",
       " 'alphonso',\n",
       " 'mathur',\n",
       " 'george',\n",
       " 'sahabudeen',\n",
       " 'delmetrius',\n",
       " 'corintheus',\n",
       " 'ludis',\n",
       " 'elgie',\n",
       " 'farhanaz',\n",
       " 'quacheena',\n",
       " 'beuford',\n",
       " 'juanita',\n",
       " 'navjoot',\n",
       " 'cleopatra',\n",
       " 'qwina',\n",
       " 'pushapender',\n",
       " 'ramhet',\n",
       " 'ruddy',\n",
       " 'underially',\n",
       " 'rory',\n",
       " 'kernel',\n",
       " 'deeta',\n",
       " 'razia',\n",
       " 'ante',\n",
       " 'doug',\n",
       " 'shathi',\n",
       " 'allington',\n",
       " 'derrel',\n",
       " 'kiona',\n",
       " 'sharone',\n",
       " 'mundari',\n",
       " 'clayton',\n",
       " 'tavards',\n",
       " 'shango',\n",
       " 'orial',\n",
       " 'nawal',\n",
       " 'awasthi',\n",
       " 'marques',\n",
       " 'roddrick',\n",
       " 'rodrickas',\n",
       " 'vidall',\n",
       " 'tavoris',\n",
       " 'necole',\n",
       " 'clivens',\n",
       " 'abdula',\n",
       " 'lushi',\n",
       " 'noorjaha',\n",
       " 'khaliyah',\n",
       " 'berlin',\n",
       " 'shana',\n",
       " 'kyla',\n",
       " 'magadalena',\n",
       " 'immanuel',\n",
       " 'pappy',\n",
       " 'alphonsia',\n",
       " 'lenroy',\n",
       " 'devendr',\n",
       " 'lauryn',\n",
       " 'sadarius',\n",
       " 'shomari',\n",
       " 'indraj',\n",
       " 'gosset',\n",
       " 'natu',\n",
       " 'delvrin',\n",
       " 'tadarius',\n",
       " 'birmadevi',\n",
       " 'ellvin',\n",
       " 'goddu',\n",
       " 'erron',\n",
       " 'santoni',\n",
       " 'ure',\n",
       " 'hefton',\n",
       " 'elger',\n",
       " 'ramkiashan',\n",
       " 'graig',\n",
       " 'kaliel',\n",
       " 'haliya',\n",
       " 'laksh',\n",
       " 'vellena',\n",
       " 'micha',\n",
       " 'heeralall',\n",
       " 'nadine',\n",
       " 'jamyira',\n",
       " 'bijendra',\n",
       " 'javal',\n",
       " 'dabbu',\n",
       " 'yumisani',\n",
       " 'deepa',\n",
       " 'abishai',\n",
       " 'delman',\n",
       " 'anshu',\n",
       " 'shelana',\n",
       " 'birma',\n",
       " 'lowen',\n",
       " 'larkin',\n",
       " 'corbin',\n",
       " 'eric',\n",
       " 'shalig',\n",
       " 'nadem',\n",
       " 'ohmar',\n",
       " 'lal',\n",
       " 'shakim',\n",
       " 'jerrin',\n",
       " 'moni',\n",
       " 'latroy',\n",
       " 'vonsher',\n",
       " 'keavin',\n",
       " 'daimon',\n",
       " 'horace',\n",
       " 'nose',\n",
       " 'deive',\n",
       " 'loisselt',\n",
       " 'donyan',\n",
       " 'mohamed',\n",
       " 'thad',\n",
       " 'gaffenay',\n",
       " 'simeon',\n",
       " 'romanson',\n",
       " 'chetan',\n",
       " 'magdalena',\n",
       " 'nivaldo',\n",
       " 'jimmia',\n",
       " 'jiverto',\n",
       " 'rameshwer',\n",
       " 'rohaan',\n",
       " 'malti',\n",
       " 'rustin',\n",
       " 'shubhm',\n",
       " 'richelle',\n",
       " 'fede',\n",
       " 'gildardo',\n",
       " 'rosa',\n",
       " 'trauion',\n",
       " 'ores',\n",
       " 'elgin',\n",
       " 'luckens',\n",
       " 'decarlos',\n",
       " 'twinkal',\n",
       " 'ulisban',\n",
       " 'exdol',\n",
       " 'kajol',\n",
       " 'honario',\n",
       " 'rikardo',\n",
       " 'manash',\n",
       " 'chotelal',\n",
       " 'cheyanne',\n",
       " 'surgyan',\n",
       " 'ora',\n",
       " 'naqib',\n",
       " 'jacquelyn',\n",
       " 'abishak',\n",
       " 'carrod',\n",
       " 'leterra',\n",
       " 'chon',\n",
       " 'landrick',\n",
       " 'bhaggo',\n",
       " 'jacouri',\n",
       " 'manoj',\n",
       " 'rohila',\n",
       " 'injuste',\n",
       " 'zackery',\n",
       " 'horam',\n",
       " 'shadrach',\n",
       " 'deaven',\n",
       " 'prentiss',\n",
       " 'deante',\n",
       " 'noylan',\n",
       " 'sayja',\n",
       " 'tobaris',\n",
       " 'dakurynin',\n",
       " 'guljar',\n",
       " 'carrol',\n",
       " 'alissa',\n",
       " 'naseeba',\n",
       " 'damien',\n",
       " 'oba',\n",
       " 'april',\n",
       " 'dobhal',\n",
       " 'able',\n",
       " 'tracee',\n",
       " 'somchai',\n",
       " 'mayak',\n",
       " 'devinder',\n",
       " 'tanmay',\n",
       " 'danial',\n",
       " 'alekzandr',\n",
       " 'reynaldo',\n",
       " 'zavery',\n",
       " 'macree',\n",
       " 'denetra',\n",
       " 'markishi',\n",
       " 'haskell',\n",
       " 'anwar',\n",
       " 'natasia',\n",
       " 'hosiyarilal',\n",
       " 'kennegrue',\n",
       " 'tashawnbie',\n",
       " 'labrant',\n",
       " 'shavis',\n",
       " 'rhonda',\n",
       " 'rajia',\n",
       " 'dipeeka',\n",
       " 'dheerendra',\n",
       " 'shabbo',\n",
       " 'reed',\n",
       " 'jermarcus',\n",
       " 'jeston',\n",
       " 'rimzim',\n",
       " 'keymond',\n",
       " 'akyl',\n",
       " 'alec',\n",
       " 'jimmy',\n",
       " 'reymundo',\n",
       " 'vikrant',\n",
       " 'kermit',\n",
       " 'atavis',\n",
       " 'rensfield',\n",
       " 'quentin',\n",
       " 'avnish',\n",
       " 'husnara',\n",
       " 'wendall',\n",
       " 'delarrion',\n",
       " 'latasia',\n",
       " 'miikey',\n",
       " 'brice',\n",
       " 'pratul',\n",
       " 'vindeshver',\n",
       " 'zoraina',\n",
       " 'tyrell',\n",
       " 'teshea',\n",
       " 'dharmendra',\n",
       " 'damini',\n",
       " 'gwendaly',\n",
       " 'fayv',\n",
       " 'yashica',\n",
       " 'oshae',\n",
       " 'phalguni',\n",
       " 'donamitche',\n",
       " 'helmiro',\n",
       " 'kiron',\n",
       " 'halkuji',\n",
       " 'saidas',\n",
       " 'seeva',\n",
       " 'goldi',\n",
       " 'kourtney',\n",
       " 'majrula',\n",
       " 'mohatter',\n",
       " 'jacinto',\n",
       " 'sejan',\n",
       " 'yankopoly',\n",
       " 'ataire',\n",
       " 'jabiel',\n",
       " 'asruddin',\n",
       " 'atanu',\n",
       " 'gantry',\n",
       " 'opreail',\n",
       " 'fauina',\n",
       " 'naome',\n",
       " 'ravishankar',\n",
       " 'shaune',\n",
       " 'tek',\n",
       " 'marland',\n",
       " 'permeshwar',\n",
       " 'shuler',\n",
       " 'navin',\n",
       " 'alexandria',\n",
       " 'nazima',\n",
       " 'bahart',\n",
       " 'gitika',\n",
       " 'raju',\n",
       " 'master',\n",
       " 'lynn',\n",
       " 'shamekia',\n",
       " 'namore',\n",
       " 'jamalie',\n",
       " 'jhakar',\n",
       " 'clarell',\n",
       " 'maikel',\n",
       " 'subhas',\n",
       " 'bobi',\n",
       " 'dutt',\n",
       " 'lavender',\n",
       " 'alejo',\n",
       " 'bhagay',\n",
       " 'rajinder',\n",
       " 'shealton',\n",
       " 'jaipal',\n",
       " 'bhojpal',\n",
       " 'darcus',\n",
       " 'fooljhnah',\n",
       " 'fabio',\n",
       " 'cortney',\n",
       " 'pardeshi',\n",
       " 'addie',\n",
       " 'tomarkcus',\n",
       " 'shauskee',\n",
       " 'edkah',\n",
       " 'yeffrey',\n",
       " 'bhawana',\n",
       " 'melquwan',\n",
       " 'vijaya',\n",
       " 'pooja',\n",
       " 'dunte',\n",
       " 'nargis',\n",
       " 'patender',\n",
       " 'simonis',\n",
       " 'kaion',\n",
       " 'ajeem',\n",
       " 'chom',\n",
       " 'blain',\n",
       " 'barham',\n",
       " 'khadafy',\n",
       " 'jamael',\n",
       " 'kaishav',\n",
       " 'burgess',\n",
       " 'shiv',\n",
       " 'seon',\n",
       " 'promila',\n",
       " 'manjar',\n",
       " 'hassell',\n",
       " 'heena',\n",
       " 'levonne',\n",
       " 'hardev',\n",
       " 'saiesta',\n",
       " 'jamonte',\n",
       " 'sedrick',\n",
       " 'channu',\n",
       " 'wheelock',\n",
       " 'purnima',\n",
       " 'delany',\n",
       " 'dakshina',\n",
       " 'ulrick',\n",
       " 'allinton',\n",
       " 'janiel',\n",
       " 'goverdhan',\n",
       " 'monrovia',\n",
       " 'kelama',\n",
       " 'aleesha',\n",
       " 'kit',\n",
       " 'chalita',\n",
       " 'markia',\n",
       " 'shobina',\n",
       " 'laqwan',\n",
       " 'baltazar',\n",
       " 'elione',\n",
       " 'goapal',\n",
       " 'lekendric',\n",
       " 'lavaren',\n",
       " 'moinuddin',\n",
       " 'hemanti',\n",
       " 'manfool',\n",
       " 'delana',\n",
       " 'arnold',\n",
       " 'floriberto',\n",
       " 'lindsley',\n",
       " 'jabez',\n",
       " 'belvie',\n",
       " 'jane',\n",
       " 'yoandy',\n",
       " 'silbestre',\n",
       " 'kanika',\n",
       " 'orphie',\n",
       " 'primas',\n",
       " 'veronika',\n",
       " 'corben',\n",
       " 'keyonbie',\n",
       " 'damani',\n",
       " 'tra',\n",
       " 'jatin',\n",
       " 'bohati',\n",
       " 'philindz',\n",
       " 'darrious',\n",
       " 'stephen',\n",
       " 'nirmaljeet',\n",
       " 'neelima',\n",
       " 'dalia',\n",
       " 'chimana',\n",
       " 'vandana',\n",
       " 'antwanne',\n",
       " 'tamakia',\n",
       " 'ademar',\n",
       " 'cliffton',\n",
       " 'asgari',\n",
       " 'satyapal',\n",
       " 'umrawti',\n",
       " 'sheintara',\n",
       " 'johneka',\n",
       " 'tywine',\n",
       " 'nathuram',\n",
       " 'lalmuni',\n",
       " 'anoopama',\n",
       " 'judston',\n",
       " 'jitin',\n",
       " 'jekara',\n",
       " 'wenzel',\n",
       " 'delbert',\n",
       " 'sokin',\n",
       " 'veronica',\n",
       " 'solomon',\n",
       " 'muntrin',\n",
       " 'welch',\n",
       " 'deaunna',\n",
       " 'geeta',\n",
       " 'tool',\n",
       " 'hartley',\n",
       " 'levie',\n",
       " 'olivia',\n",
       " 'neetu',\n",
       " 'isable',\n",
       " 'sampat',\n",
       " 'gwendolyn',\n",
       " 'chonvandra',\n",
       " 'nirmala',\n",
       " 'eunice',\n",
       " 'bhala',\n",
       " 'mayola',\n",
       " 'vicki',\n",
       " 'kesavi',\n",
       " 'mowrice',\n",
       " 'nydeed',\n",
       " 'shaboob',\n",
       " 'dipanshu',\n",
       " 'varsh',\n",
       " 'bhaktivinod',\n",
       " 'narayran',\n",
       " 'ben',\n",
       " 'keauntay',\n",
       " 'banju',\n",
       " 'begum',\n",
       " 'setton',\n",
       " 'sujanti',\n",
       " 'kathartur',\n",
       " 'exan',\n",
       " 'vernal',\n",
       " 'quince',\n",
       " 'deltonia',\n",
       " 'baldev',\n",
       " 'boyce',\n",
       " 'frankiie',\n",
       " 'castora',\n",
       " 'kushbu',\n",
       " 'ontario',\n",
       " 'aires',\n",
       " 'ileana',\n",
       " 'pawan',\n",
       " 'nagma',\n",
       " 'gurpreet',\n",
       " 'riyajul',\n",
       " 'michelo',\n",
       " 'melonise',\n",
       " 'kaylee',\n",
       " 'davonne',\n",
       " 'trudy',\n",
       " 'suhel',\n",
       " 'chauncey',\n",
       " 'larcess',\n",
       " 'ramnath',\n",
       " 'ushman',\n",
       " 'nacenure',\n",
       " 'mina',\n",
       " 'layla',\n",
       " 'mangelal',\n",
       " 'chiquita',\n",
       " 'marguerite',\n",
       " 'quantavious',\n",
       " 'zackerias',\n",
       " 'sayna',\n",
       " 'anatonio',\n",
       " 'everton',\n",
       " 'sohil',\n",
       " 'vidit',\n",
       " 'darvousha',\n",
       " 'gouri',\n",
       " 'denton',\n",
       " 'betrice',\n",
       " 'arden',\n",
       " 'pratha',\n",
       " 'phirdos',\n",
       " 'darquize',\n",
       " 'francie',\n",
       " 'lenora',\n",
       " 'derris',\n",
       " 'pemaram',\n",
       " 'tiwari',\n",
       " 'shermykael',\n",
       " 'rodrizgus',\n",
       " 'enoch',\n",
       " 'lakeith',\n",
       " 'mirtha',\n",
       " 'julio',\n",
       " 'johnson',\n",
       " 'premature',\n",
       " 'keithparker',\n",
       " 'lahusson',\n",
       " 'akhlish',\n",
       " 'motilaal',\n",
       " 'loman',\n",
       " 'dieter',\n",
       " 'saniya',\n",
       " 'tekchand',\n",
       " 'sandeep',\n",
       " 'chnda',\n",
       " 'kaleram',\n",
       " 'bricen',\n",
       " 'clas',\n",
       " 'delawrence',\n",
       " 'georges',\n",
       " 'lori',\n",
       " 'chandler',\n",
       " 'aris',\n",
       " 'bobauk',\n",
       " 'hemuna',\n",
       " 'mithlesh',\n",
       " 'munnem',\n",
       " 'deontrez',\n",
       " 'visvajeet',\n",
       " 'clarassi',\n",
       " 'nasedra',\n",
       " 'kende',\n",
       " 'kelean',\n",
       " 'lorraine',\n",
       " 'swedesh',\n",
       " 'kusuma',\n",
       " 'nishu',\n",
       " 'alima',\n",
       " 'sharyn',\n",
       " 'lilabai',\n",
       " 'fulvio',\n",
       " 'abhash',\n",
       " 'raisha',\n",
       " 'dong',\n",
       " 'jerone',\n",
       " 'bachcha',\n",
       " 'tony',\n",
       " 'labbhi',\n",
       " 'akash',\n",
       " 'syham',\n",
       " 'pathoni',\n",
       " 'erancis',\n",
       " 'trell',\n",
       " 'javetha',\n",
       " 'aukevious',\n",
       " 'tabaitha',\n",
       " 'thurmond',\n",
       " 'timothy',\n",
       " 'marlaco',\n",
       " 'mahima',\n",
       " 'keila',\n",
       " 'ansley',\n",
       " 'gavin',\n",
       " 'shreemati',\n",
       " 'khamchand',\n",
       " 'dimitra',\n",
       " 'kedrick',\n",
       " 'tranoom',\n",
       " 'wilmann',\n",
       " 'quachetta',\n",
       " 'mamini',\n",
       " 'brettany',\n",
       " 'tierre',\n",
       " 'leonel',\n",
       " 'juan',\n",
       " 'deshaune',\n",
       " 'sandrinna',\n",
       " 'karey',\n",
       " 'luz',\n",
       " 'ashrfi',\n",
       " 'arafat',\n",
       " 'rudney',\n",
       " 'christohper',\n",
       " 'nandkishore',\n",
       " 'honey',\n",
       " 'jhumki',\n",
       " 'brent',\n",
       " 'edenmis',\n",
       " 'jaclyn',\n",
       " 'ariana',\n",
       " 'muzim',\n",
       " 'ronchristop',\n",
       " 'kaleigh',\n",
       " 'kaari',\n",
       " 'wilbern',\n",
       " 'haider',\n",
       " 'prdeep',\n",
       " 'hayse',\n",
       " 'mandothi',\n",
       " 'jinat',\n",
       " 'charly',\n",
       " 'felio',\n",
       " 'jhingi',\n",
       " 'kacy',\n",
       " 'dinesh',\n",
       " 'rumeet',\n",
       " 'azam',\n",
       " 'wisnia',\n",
       " 'raymone',\n",
       " 'sherwin',\n",
       " 'pradep',\n",
       " 'cordero',\n",
       " 'vertresa',\n",
       " 'natasha',\n",
       " 'akthari',\n",
       " 'antim',\n",
       " 'giosbel',\n",
       " 'jankraj',\n",
       " 'awedhesh',\n",
       " 'jhony',\n",
       " 'karlton',\n",
       " 'jredreck',\n",
       " 'anash',\n",
       " 'divy',\n",
       " 'dantwon',\n",
       " 'gonzalo',\n",
       " 'bren',\n",
       " 'vandhna',\n",
       " 'winel',\n",
       " 'markis',\n",
       " 'rictor',\n",
       " 'jename',\n",
       " 'vaijanti',\n",
       " 'willoghby',\n",
       " 'sahun',\n",
       " 'arlee',\n",
       " 'farjand',\n",
       " 'akeine',\n",
       " 'ronney',\n",
       " 'craigory',\n",
       " 'sorab',\n",
       " 'shabi',\n",
       " 'afshana',\n",
       " 'quinata',\n",
       " 'breawn',\n",
       " 'gentry',\n",
       " 'kwanzae',\n",
       " 'abishek',\n",
       " 'porfirio',\n",
       " 'binani',\n",
       " 'shravani',\n",
       " 'bimlesh',\n",
       " 'claudie',\n",
       " 'chadd',\n",
       " 'busra',\n",
       " 'shontell',\n",
       " 'todaryl',\n",
       " 'afsari',\n",
       " 'brij',\n",
       " 'shaikh',\n",
       " 'chesere',\n",
       " 'searcy',\n",
       " 'karishma',\n",
       " 'corian',\n",
       " 'wesley',\n",
       " 'ciro',\n",
       " 'marx',\n",
       " 'nashrin',\n",
       " 'riti',\n",
       " 'gulafsa',\n",
       " 'jagdishchandra',\n",
       " 'yuvraj',\n",
       " 'wasim',\n",
       " 'ranu',\n",
       " 'silvino',\n",
       " 'metro',\n",
       " 'khusbhoo',\n",
       " 'sweta',\n",
       " 'rylee',\n",
       " 'jeasie',\n",
       " 'jockue',\n",
       " 'mahammd',\n",
       " 'orren',\n",
       " 'hineefah',\n",
       " 'kushumlata',\n",
       " 'jamarquis',\n",
       " 'ladarin',\n",
       " 'seeba',\n",
       " 'premla',\n",
       " 'mourad',\n",
       " 'avatar',\n",
       " 'randle',\n",
       " 'jalmi',\n",
       " 'bhagya',\n",
       " 'antonia',\n",
       " 'johel',\n",
       " 'rainlad',\n",
       " 'rupinder',\n",
       " 'telron',\n",
       " 'shaughnesse',\n",
       " 'leila',\n",
       " 'talris',\n",
       " 'pushpan',\n",
       " 'alander',\n",
       " 'giuseppe',\n",
       " 'hazari',\n",
       " 'jorim',\n",
       " 'razim',\n",
       " 'shakar',\n",
       " 'asharani',\n",
       " 'delma',\n",
       " 'munesh',\n",
       " 'donnalee',\n",
       " 'davien',\n",
       " 'krisana',\n",
       " 'tanvir',\n",
       " 'runiya',\n",
       " 'nikkito',\n",
       " 'shirlene',\n",
       " 'bunda',\n",
       " 'naimuddin',\n",
       " 'lascelles',\n",
       " 'taphonie',\n",
       " 'bhakuni',\n",
       " 'merita',\n",
       " 'santok',\n",
       " 'savita',\n",
       " 'rance',\n",
       " 'ericked',\n",
       " 'dharmraj',\n",
       " 'fulo',\n",
       " 'darol',\n",
       " 'bradlee',\n",
       " 'antonion',\n",
       " 'darian',\n",
       " 'aron',\n",
       " 'jhunnu',\n",
       " 'beby',\n",
       " 'kyaira',\n",
       " 'jerard',\n",
       " 'keevon',\n",
       " 'theodis',\n",
       " 'ajad',\n",
       " 'dimitrius',\n",
       " 'decius',\n",
       " 'nichols',\n",
       " 'lazarro',\n",
       " 'bhagwat',\n",
       " 'davis',\n",
       " 'darrel',\n",
       " 'kegan',\n",
       " 'onton',\n",
       " 'nickie',\n",
       " 'eurick',\n",
       " 'tavarres',\n",
       " 'catarino',\n",
       " 'benjamin',\n",
       " 'torry',\n",
       " 'deaundra',\n",
       " 'radhadalal',\n",
       " 'antwain',\n",
       " 'iran',\n",
       " 'tariy',\n",
       " 'imtyaz',\n",
       " 'hannah',\n",
       " 'tarun',\n",
       " 'sundar',\n",
       " 'kaheid',\n",
       " 'ondra',\n",
       " 'dontress',\n",
       " 'saurav',\n",
       " 'harvis',\n",
       " 'dhurv',\n",
       " 'tosheeb',\n",
       " 'soram',\n",
       " 'jefrie',\n",
       " 'romount',\n",
       " 'sadip',\n",
       " 'oval',\n",
       " 'keyondrae',\n",
       " 'allahzar',\n",
       " 'travitz',\n",
       " 'zakia',\n",
       " 'mursida',\n",
       " 'richard',\n",
       " 'isaih',\n",
       " 'doyle',\n",
       " 'ramphal',\n",
       " 'khiry',\n",
       " 'sunaina',\n",
       " 'jassen',\n",
       " 'brye',\n",
       " 'yordy',\n",
       " 'vander',\n",
       " 'anshum',\n",
       " 'donavon',\n",
       " 'lacynthia',\n",
       " 'manu',\n",
       " 'alfonsia',\n",
       " 'irasemis',\n",
       " 'stevhen',\n",
       " 'angel',\n",
       " 'bipin',\n",
       " 'antavis',\n",
       " 'stanley',\n",
       " 'chunaram',\n",
       " 'dhirender',\n",
       " 'javarris',\n",
       " 'adelmis',\n",
       " 'raimar',\n",
       " 'maruti',\n",
       " 'akkash',\n",
       " 'ratni',\n",
       " 'sheensar',\n",
       " 'gyanu',\n",
       " 'luman',\n",
       " 'afzaj',\n",
       " 'calixto',\n",
       " 'rashane',\n",
       " 'shawndreas',\n",
       " 'doris',\n",
       " 'dhramender',\n",
       " 'emali',\n",
       " 'jit',\n",
       " 'kristy',\n",
       " 'ruksaar',\n",
       " 'balbeer',\n",
       " 'suchit',\n",
       " 'trevonte',\n",
       " 'kashiram',\n",
       " 'bland',\n",
       " 'neela',\n",
       " 'mhendar',\n",
       " 'davonn',\n",
       " 'mangol',\n",
       " 'kushagra',\n",
       " 'darries',\n",
       " 'gift',\n",
       " 'radhyshyam',\n",
       " 'devan',\n",
       " 'berchman',\n",
       " 'jarrard',\n",
       " 'selana',\n",
       " 'galiya',\n",
       " 'saurabh',\n",
       " 'eboni',\n",
       " 'khetra',\n",
       " 'rosina',\n",
       " 'keven',\n",
       " 'zell',\n",
       " 'chevy',\n",
       " 'ali',\n",
       " 'rajpal',\n",
       " 'valentine',\n",
       " 'kanchaniya',\n",
       " 'nirutma',\n",
       " 'rajuddin',\n",
       " 'munne',\n",
       " 'reynerio',\n",
       " 'sophie',\n",
       " 'zuveb',\n",
       " 'armita',\n",
       " 'travious',\n",
       " 'awdhesh',\n",
       " 'devyani',\n",
       " 'violet',\n",
       " 'lakevia',\n",
       " 'farris',\n",
       " 'nishtha',\n",
       " 'nadeem',\n",
       " 'aryan',\n",
       " 'jaideep',\n",
       " 'kidane',\n",
       " 'gabe',\n",
       " 'geri',\n",
       " 'tufel',\n",
       " 'anara',\n",
       " 'donyeal',\n",
       " 'joy',\n",
       " 'cari',\n",
       " 'terenza',\n",
       " 'sazzad',\n",
       " 'najma',\n",
       " 'eva',\n",
       " 'phooleshwar',\n",
       " 'hisamuddin',\n",
       " 'frenice',\n",
       " 'bismilla',\n",
       " 'deontavius',\n",
       " 'verendra',\n",
       " 'demetrious',\n",
       " 'kip',\n",
       " 'ramba',\n",
       " 'cristy',\n",
       " 'jarvaris',\n",
       " 'bacari',\n",
       " ...}"
      ]
     },
     "execution_count": 36,
     "metadata": {},
     "output_type": "execute_result"
    }
   ],
   "source": [
    "first_name.names"
   ]
  },
  {
   "cell_type": "code",
   "execution_count": 37,
   "metadata": {
    "collapsed": false,
    "deletable": true,
    "editable": true
   },
   "outputs": [
    {
     "name": "stdout",
     "output_type": "stream",
     "text": [
      "has jason True\n",
      "extract ['Jason', 'Louis', 'Peggy', 'Anne']\n"
     ]
    }
   ],
   "source": [
    "extracted = first_name.extract([\"Jason\", \"Louis\", \"Goldberger\", \"Peggy\", \"Anne\", \"Baf\"])\n",
    "print(\"has jason\", first_name.index.has_word(\"jason\"))\n",
    "print(\"extract\", extracted)"
   ]
  },
  {
   "cell_type": "code",
   "execution_count": 38,
   "metadata": {
    "collapsed": false,
    "deletable": true,
    "editable": true
   },
   "outputs": [],
   "source": [
    "from piper import last_name"
   ]
  },
  {
   "cell_type": "code",
   "execution_count": 39,
   "metadata": {
    "collapsed": false,
    "deletable": true,
    "editable": true
   },
   "outputs": [
    {
     "data": {
      "text/plain": [
       "['Smith']"
      ]
     },
     "execution_count": 39,
     "metadata": {},
     "output_type": "execute_result"
    }
   ],
   "source": [
    "last_name.extract([\"Smith\", \"Nope\", \"Goldberger\"])"
   ]
  },
  {
   "cell_type": "code",
   "execution_count": 40,
   "metadata": {
    "collapsed": false
   },
   "outputs": [
    {
     "data": {
      "text/plain": [
       "[('benefield', 5, 0.5),\n",
       " ('bennefield', 4, 0.4285714285714286),\n",
       " ('benedetic', 3, 0.4),\n",
       " ('benerjee', 3, 0.26315789473684215),\n",
       " ('benedit', 3, 0.33333333333333337),\n",
       " ('benedith', 3, 0.368421052631579),\n",
       " ('benet-douval', 3, 0.30434782608695654),\n",
       " ('benedict', 3, 0.4736842105263158),\n",
       " ('benes', 3, 0.125),\n",
       " ('benehaley', 3, 0.4),\n",
       " ('benniefield', 3, 0.36363636363636365),\n",
       " ('benedetto', 3, 0.30000000000000004),\n",
       " ('benedetti', 3, 0.30000000000000004),\n",
       " ('hilliary', 3, 0.26315789473684215),\n",
       " ('benz', 2, -0.06666666666666665),\n",
       " ('meneffe', 2, 0.2222222222222222),\n",
       " ('bento', 2, 0.0),\n",
       " ('singletary', 2, 0.33333333333333337),\n",
       " ('bencar', 2, 0.4117647058823529),\n",
       " ('leary', 2, 0.125)]"
      ]
     },
     "execution_count": 40,
     "metadata": {},
     "output_type": "execute_result"
    }
   ],
   "source": [
    "found = last_name.index.search(\"beneficiary\", limit=20)\n",
    "found"
   ]
  },
  {
   "cell_type": "code",
   "execution_count": null,
   "metadata": {
    "collapsed": false
   },
   "outputs": [],
   "source": []
  },
  {
   "cell_type": "code",
   "execution_count": null,
   "metadata": {
    "collapsed": false
   },
   "outputs": [],
   "source": []
  },
  {
   "cell_type": "code",
   "execution_count": 41,
   "metadata": {
    "collapsed": true
   },
   "outputs": [],
   "source": [
    "x = {}"
   ]
  },
  {
   "cell_type": "code",
   "execution_count": 42,
   "metadata": {
    "collapsed": false
   },
   "outputs": [
    {
     "data": {
      "text/plain": [
       "dict"
      ]
     },
     "execution_count": 42,
     "metadata": {},
     "output_type": "execute_result"
    }
   ],
   "source": [
    "type(x)"
   ]
  },
  {
   "cell_type": "code",
   "execution_count": 43,
   "metadata": {
    "collapsed": false
   },
   "outputs": [
    {
     "name": "stdout",
     "output_type": "stream",
     "text": [
      "Help on built-in function setdefault:\n",
      "\n",
      "setdefault(...) method of builtins.dict instance\n",
      "    D.setdefault(k[,d]) -> D.get(k,d), also set D[k]=d if k not in D\n",
      "\n"
     ]
    }
   ],
   "source": [
    "help(x.setdefault)"
   ]
  },
  {
   "cell_type": "code",
   "execution_count": 44,
   "metadata": {
    "collapsed": false
   },
   "outputs": [
    {
     "data": {
      "text/plain": [
       "[]"
      ]
     },
     "execution_count": 44,
     "metadata": {},
     "output_type": "execute_result"
    }
   ],
   "source": [
    "x.setdefault(\"jason\", [])"
   ]
  },
  {
   "cell_type": "code",
   "execution_count": 45,
   "metadata": {
    "collapsed": false
   },
   "outputs": [
    {
     "data": {
      "text/plain": [
       "{'jason': []}"
      ]
     },
     "execution_count": 45,
     "metadata": {},
     "output_type": "execute_result"
    }
   ],
   "source": [
    "x"
   ]
  },
  {
   "cell_type": "code",
   "execution_count": 46,
   "metadata": {
    "collapsed": true
   },
   "outputs": [],
   "source": [
    "x[\"jason\"].append(1)"
   ]
  },
  {
   "cell_type": "code",
   "execution_count": 47,
   "metadata": {
    "collapsed": false
   },
   "outputs": [
    {
     "data": {
      "text/plain": [
       "[1]"
      ]
     },
     "execution_count": 47,
     "metadata": {},
     "output_type": "execute_result"
    }
   ],
   "source": [
    "x.setdefault(\"jason\", [])"
   ]
  },
  {
   "cell_type": "code",
   "execution_count": 48,
   "metadata": {
    "collapsed": false
   },
   "outputs": [
    {
     "data": {
      "text/plain": [
       "{'jason': [1]}"
      ]
     },
     "execution_count": 48,
     "metadata": {},
     "output_type": "execute_result"
    }
   ],
   "source": [
    "x"
   ]
  },
  {
   "cell_type": "code",
   "execution_count": 49,
   "metadata": {
    "collapsed": true
   },
   "outputs": [],
   "source": [
    "y = set()"
   ]
  },
  {
   "cell_type": "code",
   "execution_count": 50,
   "metadata": {
    "collapsed": true
   },
   "outputs": [],
   "source": [
    "y.add(\"jason\")"
   ]
  },
  {
   "cell_type": "code",
   "execution_count": 51,
   "metadata": {
    "collapsed": false
   },
   "outputs": [
    {
     "data": {
      "text/plain": [
       "{'jason'}"
      ]
     },
     "execution_count": 51,
     "metadata": {},
     "output_type": "execute_result"
    }
   ],
   "source": [
    "y"
   ]
  },
  {
   "cell_type": "code",
   "execution_count": null,
   "metadata": {
    "collapsed": true
   },
   "outputs": [],
   "source": []
  }
 ],
 "metadata": {
  "kernelspec": {
   "display_name": "Python 3",
   "language": "python",
   "name": "python3"
  },
  "language_info": {
   "codemirror_mode": {
    "name": "ipython",
    "version": 3
   },
   "file_extension": ".py",
   "mimetype": "text/x-python",
   "name": "python",
   "nbconvert_exporter": "python",
   "pygments_lexer": "ipython3",
   "version": "3.5.2"
  }
 },
 "nbformat": 4,
 "nbformat_minor": 2
}
