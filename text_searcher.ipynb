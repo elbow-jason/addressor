{
 "cells": [
  {
   "cell_type": "code",
   "execution_count": 1,
   "metadata": {
    "collapsed": true
   },
   "outputs": [],
   "source": [
    "from piper.text_search import TextSearch"
   ]
  },
  {
   "cell_type": "code",
   "execution_count": 2,
   "metadata": {
    "collapsed": true
   },
   "outputs": [],
   "source": [
    "search = TextSearch()"
   ]
  },
  {
   "cell_type": "code",
   "execution_count": 3,
   "metadata": {
    "collapsed": false
   },
   "outputs": [],
   "source": [
    "search.add_word(\"jason\")\n",
    "search.add_word(\"jasper\")\n",
    "search.add_word(\"jackson\")\n",
    "search.add_word(\"maxon\")"
   ]
  },
  {
   "cell_type": "code",
   "execution_count": 4,
   "metadata": {
    "collapsed": false
   },
   "outputs": [
    {
     "data": {
      "text/plain": [
       "{'ack': {8507522772022137314},\n",
       " 'aso': {-511721267000990247},\n",
       " 'asp': {772512055714620479},\n",
       " 'axo': {1774221526995417523},\n",
       " 'cks': {8507522772022137314},\n",
       " 'er': {772512055714620479},\n",
       " 'ja': {-511721267000990247, 772512055714620479, 8507522772022137314},\n",
       " 'jac': {8507522772022137314},\n",
       " 'jas': {-511721267000990247, 772512055714620479},\n",
       " 'kso': {8507522772022137314},\n",
       " 'ma': {1774221526995417523},\n",
       " 'max': {1774221526995417523},\n",
       " 'on': {-511721267000990247, 1774221526995417523, 8507522772022137314},\n",
       " 'per': {772512055714620479},\n",
       " 'son': {-511721267000990247, 8507522772022137314},\n",
       " 'spe': {772512055714620479},\n",
       " 'xon': {1774221526995417523}}"
      ]
     },
     "execution_count": 4,
     "metadata": {},
     "output_type": "execute_result"
    }
   ],
   "source": [
    "search._shingles_dict"
   ]
  },
  {
   "cell_type": "code",
   "execution_count": 5,
   "metadata": {
    "collapsed": false
   },
   "outputs": [
    {
     "data": {
      "text/plain": [
       "{-511721267000990247: {'jason'},\n",
       " 772512055714620479: {'jasper'},\n",
       " 1774221526995417523: {'maxon'},\n",
       " 8507522772022137314: {'jackson'}}"
      ]
     },
     "execution_count": 5,
     "metadata": {},
     "output_type": "execute_result"
    }
   ],
   "source": [
    "search._words_dict"
   ]
  },
  {
   "cell_type": "code",
   "execution_count": 6,
   "metadata": {
    "collapsed": false
   },
   "outputs": [
    {
     "data": {
      "text/plain": [
       "True"
      ]
     },
     "execution_count": 6,
     "metadata": {},
     "output_type": "execute_result"
    }
   ],
   "source": [
    "search.has_word(\"jason\")"
   ]
  },
  {
   "cell_type": "code",
   "execution_count": 7,
   "metadata": {
    "collapsed": false
   },
   "outputs": [
    {
     "data": {
      "text/plain": [
       "[('jason', 3, 0.8), ('jackson', 2, 0.5), ('maxon', 2, 0.8)]"
      ]
     },
     "execution_count": 7,
     "metadata": {},
     "output_type": "execute_result"
    }
   ],
   "source": [
    "search.search(\"mason\")"
   ]
  },
  {
   "cell_type": "code",
   "execution_count": null,
   "metadata": {
    "collapsed": true
   },
   "outputs": [],
   "source": []
  },
  {
   "cell_type": "code",
   "execution_count": null,
   "metadata": {
    "collapsed": true
   },
   "outputs": [],
   "source": []
  }
 ],
 "metadata": {
  "kernelspec": {
   "display_name": "Python 3",
   "language": "python",
   "name": "python3"
  },
  "language_info": {
   "codemirror_mode": {
    "name": "ipython",
    "version": 3
   },
   "file_extension": ".py",
   "mimetype": "text/x-python",
   "name": "python",
   "nbconvert_exporter": "python",
   "pygments_lexer": "ipython3",
   "version": "3.5.2"
  }
 },
 "nbformat": 4,
 "nbformat_minor": 2
}
